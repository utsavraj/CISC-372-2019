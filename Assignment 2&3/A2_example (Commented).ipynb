{
  "nbformat": 4,
  "nbformat_minor": 0,
  "metadata": {
    "colab": {
      "name": "A2.ipynb",
      "provenance": [],
      "collapsed_sections": []
    },
    "kernelspec": {
      "name": "python3",
      "display_name": "Python 3"
    }
  },
  "cells": [
    {
      "cell_type": "code",
      "metadata": {
        "id": "WQxnfuP7VX1Y",
        "colab_type": "code",
        "colab": {}
      },
      "source": [
        "# Downloading the test and training the data\n",
        "!wget -q https://l1nna.com/372/Assignment/A2-3/train.csv\n",
        "!wget -q https://l1nna.com/372/Assignment/A2-3/test.csv"
      ],
      "execution_count": 0,
      "outputs": []
    },
    {
      "cell_type": "code",
      "metadata": {
        "id": "1WVbJBjQVt4H",
        "colab_type": "code",
        "colab": {}
      },
      "source": [
        "from sklearn.feature_extraction.text import CountVectorizer\n",
        "from sklearn.feature_extraction.text import TfidfTransformer\n",
        "from sklearn.linear_model import SGDClassifier\n",
        "from sklearn.svm import SVC\n",
        "from sklearn.model_selection import GridSearchCV\n",
        "from sklearn.pipeline import Pipeline\n",
        "import numpy as np\n",
        "import pandas as pd\n",
        "from xgboost.sklearn import XGBClassifier\n",
        "\n",
        "# Reading the csv files into the variables using pandas so they can be used in the notebook\n",
        "xy_train = pd.read_csv('train.csv')\n",
        "x_test  = pd.read_csv('test.csv')\n"
      ],
      "execution_count": 0,
      "outputs": []
    },
    {
      "cell_type": "code",
      "metadata": {
        "id": "lPl59bXdWKdu",
        "colab_type": "code",
        "outputId": "fa4cbcfe-4280-42fb-f0fc-e3c1f6470475",
        "colab": {
          "base_uri": "https://localhost:8080/",
          "height": 578
        }
      },
      "source": [
        "# Converts review as the input named x from training dataset for the model. You do not want ID as an input as it has no use.\n",
        "x = xy_train.review\n",
        "\n",
        "# Converts rating as the ouput named y from training dataset for the model\n",
        "y = xy_train.rating\n",
        "\n",
        "# Pipeline helps in sequentual manner for transformation/estimator\n",
        "#     vect: Converts the text into a matrix of token counts and build a vocabulary of known words. This helps in encoding new texts using that vocabulary. \n",
        "\n",
        "#     tfidf: Used in conjuction with vect to create inverse text frequencies - downscales words that appear a lot across documents as words like “the” will\n",
        "#     appear many times and their large counts will not be very meaningful in the encoded vectors\n",
        "\n",
        "#     clf: Support Vector Machine model is our model for machine learning. class_weight='balanced' automatically adjust weights inversely proportional to \n",
        "#     class frequencies (tfidf) in the input data . The idea behind this is that to increase the penalty for misclassifying minority classes to prevent them\n",
        "#     from being “overwhelmed” by the majority class.\n",
        "pipeline = Pipeline([\n",
        "    ('vect', CountVectorizer()),\n",
        "    ('tfidf', TfidfTransformer()),\n",
        "    ('clf', SVC(class_weight='balanced')),\n",
        "])\n",
        "\n",
        "# Parameter range for our SVM model - needed for GridSearchCV\n",
        "#   vect__max_features: Number of maximum  features\n",
        "#   vect__analyzer: The feature should be made of word n-gram\n",
        "#   tfidf__use_idf: with or without inverse document frequency\n",
        "parameters = {\n",
        "    'vect__max_features': [100, 500, 1000, 5000, 10000, 120000],\n",
        "    'vect__analyzer': ['word',],\n",
        "    'vect__ngram_range': ((1, 2),(1, 3)), # unigrams or bigrams or trigrams etc\n",
        "    'tfidf__use_idf': (True, False),\n",
        "#     'tfidf__norm': ('l1', 'l2'),\n",
        "#     'clf__max_iter': (20,),\n",
        "#     'clf__alpha': (0.00001, 0.000001),\n",
        "#     'clf__penalty': ('l2', 'elasticnet'),\n",
        "    # 'clf__max_iter': (10, 50, 80),\n",
        "}\n",
        "\n",
        "# Our model will be scored based on f1 (as required by the assignment guidelines) and accuracy.\n",
        "scoring = ['f1', 'accuracy']\n",
        "\n",
        "# Split is the integer output of the 80% of the training data eg split = 4978\n",
        "split = int(len(x) * 0.8)\n",
        "\n",
        "# GridSearchCV: parameter tuning that will methodically build and \n",
        "#               evaluate a model for each combination of algorithm parameters specified in a grid.\n",
        "#   cv : Divide the training dataset into 80% for training the model and 20% to testing the model to see how it performs with different parameters.\n",
        "#   n_jobs = 20 - Running twnety jobs in parallel\n",
        "#   verbose : give messages\n",
        "#   scoring : Evaluate the test set based on the variable scoring on the test set\n",
        "#   refit='f1' : Refit an estimator using the parameters setting with best f1 score on the whole dataset. This allows us to find a better model\n",
        "#                by choosing the parameters that give best f1 score.\n",
        "#   return_train_score : Shows the training scores to get insights on how different parameter settings impact the overfitting/underfitting trade-off\n",
        "grid_search = GridSearchCV(\n",
        "    pipeline, parameters, verbose=3, cv=[(np.arange(0, split), np.arange(split, len(x)))], \n",
        "    refit='f1', n_jobs=20, scoring=scoring, return_train_score=True)\n",
        "\n",
        "# fitting the model with the data to find the best hypertuning parameters\n",
        "grid_search.fit(x, y)"
      ],
      "execution_count": 7,
      "outputs": [
        {
          "output_type": "stream",
          "text": [
            "Fitting 1 folds for each of 24 candidates, totalling 24 fits\n"
          ],
          "name": "stdout"
        },
        {
          "output_type": "stream",
          "text": [
            "[Parallel(n_jobs=20)]: Using backend LokyBackend with 20 concurrent workers.\n",
            "[Parallel(n_jobs=20)]: Done   3 out of  24 | elapsed:  1.3min remaining:  9.2min\n",
            "[Parallel(n_jobs=20)]: Done  12 out of  24 | elapsed:  6.0min remaining:  6.0min\n",
            "[Parallel(n_jobs=20)]: Done  21 out of  24 | elapsed:  7.6min remaining:  1.1min\n",
            "[Parallel(n_jobs=20)]: Done  24 out of  24 | elapsed:  8.0min finished\n"
          ],
          "name": "stderr"
        },
        {
          "output_type": "execute_result",
          "data": {
            "text/plain": [
              "GridSearchCV(cv=[(array([   0,    1,    2, ..., 4975, 4976, 4977]),\n",
              "                  array([4978, 4979, 4980, ..., 6220, 6221, 6222]))],\n",
              "             error_score=nan,\n",
              "             estimator=Pipeline(memory=None,\n",
              "                                steps=[('vect',\n",
              "                                        CountVectorizer(analyzer='word',\n",
              "                                                        binary=False,\n",
              "                                                        decode_error='strict',\n",
              "                                                        dtype=<class 'numpy.int64'>,\n",
              "                                                        encoding='utf-8',\n",
              "                                                        input='content',\n",
              "                                                        lowercase=True,\n",
              "                                                        max_df=1.0,\n",
              "                                                        max_features=None,\n",
              "                                                        min_df=1,\n",
              "                                                        ngram_range...\n",
              "                                            random_state=None, shrinking=True,\n",
              "                                            tol=0.001, verbose=False))],\n",
              "                                verbose=False),\n",
              "             iid='deprecated', n_jobs=20,\n",
              "             param_grid={'tfidf__use_idf': (True, False),\n",
              "                         'vect__analyzer': ['word'],\n",
              "                         'vect__max_features': [100, 500, 1000, 5000, 10000,\n",
              "                                                120000],\n",
              "                         'vect__ngram_range': ((1, 2), (1, 3))},\n",
              "             pre_dispatch='2*n_jobs', refit='f1', return_train_score=True,\n",
              "             scoring=['f1', 'accuracy'], verbose=3)"
            ]
          },
          "metadata": {
            "tags": []
          },
          "execution_count": 7
        }
      ]
    },
    {
      "cell_type": "code",
      "metadata": {
        "id": "rcsof-gvWnl-",
        "colab_type": "code",
        "outputId": "79012088-270f-462c-a98b-c9171a4d1c87",
        "colab": {
          "base_uri": "https://localhost:8080/",
          "height": 298
        }
      },
      "source": [
        "# let's visualize hyperparameters against performance\n",
        "\n",
        "from matplotlib import pyplot as plt\n",
        "\n",
        "selected_parameter = 'vect__max_features'\n",
        "results = grid_search.cv_results_\n",
        "\n",
        "plt.figure()\n",
        "plt.title(\"GridSearchCV\",\n",
        "          fontsize=16)\n",
        "\n",
        "plt.xlabel(selected_parameter)\n",
        "plt.ylabel(\"Score\")\n",
        "\n",
        "ax = plt.gca()\n",
        "ax.set_ylim(0.4, 1.1)\n",
        "\n",
        "\n",
        "# Get the regular numpy array from the MaskedArray\n",
        "X_axis = np.array(results['param_'+ selected_parameter].data, dtype=float)\n",
        "\n",
        "scorer = 'f1'\n",
        "color ='b'\n",
        "for sample, style in (('train', '--'), ('test', '-')):\n",
        "    sample_score_mean = results['mean_%s_%s' % (sample, scorer)]\n",
        "    sample_score_mean = [x for _,x in sorted(zip(X_axis,sample_score_mean))]\n",
        "    ax.plot(sorted(X_axis), sample_score_mean, style, color=color,\n",
        "            alpha=1 if sample == 'test' else 0.7,\n",
        "            label=\"%s (%s)\" % (scorer, sample if sample == 'train' else 'validation'))\n",
        "\n",
        "best_index = np.nonzero(results['rank_test_%s' % scorer] == 1)[0][0]\n",
        "best_score = results['mean_test_%s' % scorer][best_index]\n",
        "\n",
        "# Plot a dotted vertical line at the best score for that scorer marked by x\n",
        "ax.plot([X_axis[best_index], ] * 2, [0, best_score],\n",
        "        linestyle='-.', color=color, marker='x', markeredgewidth=3, ms=8)\n",
        "\n",
        "# Annotate the best score for that scorer\n",
        "ax.annotate(\"%0.2f\" % best_score,\n",
        "            (X_axis[best_index], best_score + 0.005))\n",
        "    \n",
        "\n",
        "plt.legend(loc=\"best\")\n",
        "plt.grid(False)\n",
        "plt.show()"
      ],
      "execution_count": 0,
      "outputs": [
        {
          "output_type": "display_data",
          "data": {
            "image/png": "[encoded data removed]",
            "text/plain": [
              "<Figure size 432x288 with 1 Axes>"
            ]
          },
          "metadata": {
            "tags": []
          }
        }
      ]
    },
    {
      "cell_type": "code",
      "metadata": {
        "id": "ItwJEPgIW49m",
        "colab_type": "code",
        "colab": {}
      },
      "source": [
        "# generate submission\n",
        "\n",
        "# Outputting the predicted y value for the testing data based on our best model created by gridSearch\n",
        "#     squeeze allows us to remove the array or subset of the dimensions of length 1 \n",
        "#     basically means that you removed the data embedded in array's starting index.\n",
        "y_predict = np.squeeze(grid_search.predict(x_test.review))\n",
        "\n",
        "# Convert output by adding the predicted id and rating for the test and add to filet for sample_submission.csv\n",
        "pd.DataFrame(\n",
        "    {'id': x_test.id, 'rating':y_predict}).to_csv('sample_submission.csv', index=False)"
      ],
      "execution_count": 0,
      "outputs": []
    }
  ]
}