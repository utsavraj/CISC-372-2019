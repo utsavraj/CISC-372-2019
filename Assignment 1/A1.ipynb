{
  "nbformat": 4,
  "nbformat_minor": 0,
  "metadata": {
    "colab": {
      "name": "A1_example.ipynb",
      "provenance": [],
      "collapsed_sections": [],
      "toc_visible": true
    },
    "kernelspec": {
      "name": "python3",
      "display_name": "Python 3"
    }
  },
  "cells": [
    {
      "cell_type": "code",
      "metadata": {
        "id": "vTs11WubmRhV",
        "colab_type": "code",
        "colab": {}
      },
      "source": [
        "# download data (-q is the quiet mode)\n",
        "! wget -q https://www.dropbox.com/s/lhb1awpi769bfdr/test.csv?dl=1 -O test.csv\n",
        "! wget -q https://www.dropbox.com/s/gudb5eunj700s7j/train.csv?dl=1 -O train.csv\n",
        "\n"
      ],
      "execution_count": 0,
      "outputs": []
    },
    {
      "cell_type": "code",
      "metadata": {
        "id": "jrsga6qkouO1",
        "colab_type": "code",
        "outputId": "af689f4a-7642-44e0-f3b1-57de321d88ba",
        "colab": {
          "base_uri": "https://localhost:8080/",
          "height": 299
        }
      },
      "source": [
        "import pandas as pd\n",
        "\n",
        "#Extract the data from train.csv into Xy_train\n",
        "Xy_train = pd.read_csv('train.csv', engine='python')\n",
        "\n",
        "#Stores Xy_train without the price_rating column in X_train \n",
        "X_train = Xy_train.drop(columns=['price_rating'])\n",
        "\n",
        "#Stores Xy_train with only the price_rating column in Y_train\n",
        "y_train = Xy_train[['price_rating']]\n",
        "\n",
        "#prints the number of training data objects after 'training'\n",
        "print('training', len(X_train))\n",
        "\n",
        "#Creates a histogram for Xy_train showcasing \n",
        "#the distribution of price_rating\n",
        "Xy_train.price_rating.hist()\n",
        "\n",
        "#Extract the data from test.csv into X_test\n",
        "X_test = pd.read_csv('test.csv', engine='python')\n",
        "\n",
        "#Get the id column for X_test and store in testing_ids \n",
        "testing_ids = X_test.Id\n",
        "\n",
        "#prints the number of testing data objects after 'testing'\n",
        "print('testing', len(X_test))\n"
      ],
      "execution_count": 0,
      "outputs": [
        {
          "output_type": "stream",
          "text": [
            "training 7631\n",
            "testing 7632\n"
          ],
          "name": "stdout"
        },
        {
          "output_type": "display_data",
          "data": {
            "image/png": "[encoded data removed]",
            "text/plain": [
              "<Figure size 432x288 with 1 Axes>"
            ]
          },
          "metadata": {
            "tags": []
          }
        }
      ]
    },
    {
      "cell_type": "code",
      "metadata": {
        "id": "3vFDJ3lNmE6P",
        "colab_type": "code",
        "outputId": "b20d2405-54ef-405c-c54d-ec434c679ca4",
        "colab": {
          "base_uri": "https://localhost:8080/",
          "height": 173
        }
      },
      "source": [
        "# model training and tuning\n",
        "import numpy as np\n",
        "from sklearn.compose import ColumnTransformer\n",
        "from sklearn.datasets import fetch_openml\n",
        "from sklearn.pipeline import Pipeline\n",
        "from sklearn.impute import SimpleImputer\n",
        "from sklearn.preprocessing import StandardScaler, OneHotEncoder\n",
        "from sklearn.linear_model import LogisticRegression\n",
        "from sklearn.model_selection import train_test_split, GridSearchCV\n",
        "from xgboost.sklearn import XGBClassifier\n",
        "\n",
        "from sklearn import metrics\n",
        "from sklearn.metrics import make_scorer\n",
        "from sklearn.svm import SVC\n",
        "\n",
        "#Random seed ensures that the values you get in the same \n",
        "#by choosing the same random data each time.\n",
        "np.random.seed(0)\n",
        "\n",
        "#Contains the name of features which are numeric eg. have value \n",
        "#of 1.0 for bedrooms\n",
        "numeric_features = ['bedrooms', 'review_scores_location', 'accommodates', 'beds']\n",
        "\n",
        "#Pipeline: Follows steps in sequentual manner for transformation/estimator.\n",
        "# Steps: Name of the step (to identify) and the transformation for each used in bracket. \n",
        "#   SimpleImputer: With strategy 'median' - replaces missing value with median for numeric_features\n",
        "#   StandardScaler: Normalise data by subtracting mean \n",
        "#   and dividing by variance.\n",
        "\n",
        "numeric_transformer = Pipeline(steps=[\n",
        "    ('imputer', SimpleImputer(strategy='median')),\n",
        "    ('scaler', StandardScaler())])\n",
        "\n",
        "categorical_features = [\n",
        "  'property_type', 'is_business_travel_ready', 'room_type', ]\n",
        "\n",
        "#   SimpleImputer: With strategy 'constant' - fills missing values with 'missing'for categorical_features\n",
        "#   OneHotEncoder: Normalise data by subtracting mean. An unknown category is encountered during transform, \n",
        "#                  the resulting one-hot encoded columns for this feature will be all zeros.  \n",
        "categorical_transformer = Pipeline(steps=[\n",
        "    ('imputer', SimpleImputer(strategy='constant', fill_value='missing')),\n",
        "    ('onehot', OneHotEncoder(handle_unknown='ignore'))])\n",
        "\n",
        "#   Applies transformers to columns of pandas DataFrame.\n",
        "preprocessor = ColumnTransformer(\n",
        "    transformers=[\n",
        "        ('num', numeric_transformer, numeric_features),\n",
        "        ('cat', categorical_transformer, categorical_features)])\n",
        "\n",
        "#eXtreme Gradient Boosting (XGB)- multi:softmax: set XGBoost to do multiclass classification using the softmax objective\n",
        "#Random Number seed (seed = 1)\n",
        "regr = Pipeline(steps=[('preprocessor', preprocessor),\n",
        "                      ('regressor', XGBClassifier(\n",
        "                          objective='multi:softmax', seed=1))])\n",
        "\n",
        "# Training Data for the 7 column (numeric_features + categorical_features )\n",
        "X_train = X_train[[*numeric_features, *categorical_features]]\n",
        "\n",
        "# Testing Data for the 7 column (numeric_features + categorical_features )\n",
        "X_test = X_test[[*numeric_features, *categorical_features]]\n",
        "\n",
        "# `__` denotes attribute \n",
        "# (e.g. regressor__n_estimators means the `n_estimators` param for `regressor`\n",
        "#  which is our xgb)\n",
        "param_grid = {\n",
        "    'preprocessor__num__imputer__strategy': ['mean'],\n",
        "    'regressor__n_estimators': [50, 100],\n",
        "    'regressor__max_depth':[10, 20]\n",
        "}\n",
        "# GridSearchCV: parameter tuning that will methodically build and \n",
        "#               evaluate a model for each combination of algorithm parameters specified in a grid.\n",
        "#   cv = 5 - Cross-validation 5 times\n",
        "#   n_jobs = 2 - Running two jobs in parallel\n",
        "#   verbose - give messages\n",
        "#   scoring - Evaluate the test set on accuracy\n",
        "#scorer = metrics.make_scorer(metrics.f1_score, average = 'macro')\n",
        "grid_search = GridSearchCV(\n",
        "     regr, param_grid, cv=5, verbose=3, n_jobs=2, \n",
        "     scoring='accuracy')\n",
        "\n",
        "#fitting the model with the data\n",
        "grid_search.fit(X_train, y_train)\n",
        "#-----------------------xx-------------------------------#\n",
        "\n",
        "print('best score {}'.format(grid_search.best_score_))"
      ],
      "execution_count": 0,
      "outputs": [
        {
          "output_type": "stream",
          "text": [
            "Fitting 5 folds for each of 4 candidates, totalling 20 fits\n"
          ],
          "name": "stdout"
        },
        {
          "output_type": "stream",
          "text": [
            "[Parallel(n_jobs=2)]: Using backend LokyBackend with 2 concurrent workers.\n",
            "[Parallel(n_jobs=2)]: Done  20 out of  20 | elapsed:   40.0s finished\n",
            "/usr/local/lib/python3.6/dist-packages/sklearn/preprocessing/_label.py:235: DataConversionWarning: A column-vector y was passed when a 1d array was expected. Please change the shape of y to (n_samples, ), for example using ravel().\n",
            "  y = column_or_1d(y, warn=True)\n",
            "/usr/local/lib/python3.6/dist-packages/sklearn/preprocessing/_label.py:268: DataConversionWarning: A column-vector y was passed when a 1d array was expected. Please change the shape of y to (n_samples, ), for example using ravel().\n",
            "  y = column_or_1d(y, warn=True)\n"
          ],
          "name": "stderr"
        },
        {
          "output_type": "stream",
          "text": [
            "best score 0.6945360101828082\n"
          ],
          "name": "stdout"
        }
      ]
    },
    {
      "cell_type": "code",
      "metadata": {
        "id": "FwkZ_mnMTDln",
        "colab_type": "code",
        "outputId": "e8a8fbee-608e-48ee-9f60-4969ef2a5322",
        "colab": {
          "base_uri": "https://localhost:8080/",
          "height": 1000
        }
      },
      "source": [
        "# Find the most interesting Classification model with High Macro F1-Score\n",
        "from sklearn.linear_model import LogisticRegression\n",
        "from sklearn.svm import SVC\n",
        "from sklearn.model_selection import cross_validate\n",
        "from sklearn.neighbors import KNeighborsClassifier\n",
        "from sklearn.tree import DecisionTreeClassifier\n",
        "from sklearn.ensemble import RandomForestClassifier, GradientBoostingClassifier\n",
        "\n",
        "regr = Pipeline(steps=[('preprocessor', preprocessor),\n",
        "                       ('clf', LogisticRegression())])\n",
        "clfs = []\n",
        "clfs.append(LogisticRegression(max_iter=1000))\n",
        "clfs.append(SVC())\n",
        "clfs.append(KNeighborsClassifier(n_neighbors=3))\n",
        "clfs.append(DecisionTreeClassifier())\n",
        "clfs.append(RandomForestClassifier())\n",
        "clfs.append(GradientBoostingClassifier())\n",
        "\n",
        "scorer = metrics.make_scorer(metrics.f1_score, average = 'weighted')\n",
        "\n",
        "for classifier in clfs:\n",
        "    regr.set_params(clf = classifier)\n",
        "    scores = cross_validate(regr, X_train, y_train, scoring=scorer)\n",
        "    print('---------------------------------')\n",
        "    print(str(classifier))\n",
        "    print('-----------------------------------')\n",
        "    for key, values in scores.items():\n",
        "            print(key,' mean ', values.mean())\n",
        "            print(key,' std ', values.std())"
      ],
      "execution_count": 0,
      "outputs": [
        {
          "output_type": "stream",
          "text": [
            "/usr/local/lib/python3.6/dist-packages/sklearn/utils/validation.py:760: DataConversionWarning: A column-vector y was passed when a 1d array was expected. Please change the shape of y to (n_samples, ), for example using ravel().\n",
            "  y = column_or_1d(y, warn=True)\n",
            "/usr/local/lib/python3.6/dist-packages/sklearn/utils/validation.py:760: DataConversionWarning: A column-vector y was passed when a 1d array was expected. Please change the shape of y to (n_samples, ), for example using ravel().\n",
            "  y = column_or_1d(y, warn=True)\n",
            "/usr/local/lib/python3.6/dist-packages/sklearn/utils/validation.py:760: DataConversionWarning: A column-vector y was passed when a 1d array was expected. Please change the shape of y to (n_samples, ), for example using ravel().\n",
            "  y = column_or_1d(y, warn=True)\n",
            "/usr/local/lib/python3.6/dist-packages/sklearn/utils/validation.py:760: DataConversionWarning: A column-vector y was passed when a 1d array was expected. Please change the shape of y to (n_samples, ), for example using ravel().\n",
            "  y = column_or_1d(y, warn=True)\n",
            "/usr/local/lib/python3.6/dist-packages/sklearn/utils/validation.py:760: DataConversionWarning: A column-vector y was passed when a 1d array was expected. Please change the shape of y to (n_samples, ), for example using ravel().\n",
            "  y = column_or_1d(y, warn=True)\n"
          ],
          "name": "stderr"
        },
        {
          "output_type": "stream",
          "text": [
            "---------------------------------\n",
            "LogisticRegression(C=1.0, class_weight=None, dual=False, fit_intercept=True,\n",
            "                   intercept_scaling=1, l1_ratio=None, max_iter=1000,\n",
            "                   multi_class='auto', n_jobs=None, penalty='l2',\n",
            "                   random_state=None, solver='lbfgs', tol=0.0001, verbose=0,\n",
            "                   warm_start=False)\n",
            "-----------------------------------\n",
            "fit_time  mean  0.6486091613769531\n",
            "fit_time  std  0.015725565495908055\n",
            "score_time  mean  0.00899057388305664\n",
            "score_time  std  0.0003850598790412214\n",
            "test_score  mean  0.6787695288564667\n",
            "test_score  std  0.008974832628607118\n"
          ],
          "name": "stdout"
        },
        {
          "output_type": "stream",
          "text": [
            "/usr/local/lib/python3.6/dist-packages/sklearn/utils/validation.py:760: DataConversionWarning: A column-vector y was passed when a 1d array was expected. Please change the shape of y to (n_samples, ), for example using ravel().\n",
            "  y = column_or_1d(y, warn=True)\n",
            "/usr/local/lib/python3.6/dist-packages/sklearn/utils/validation.py:760: DataConversionWarning: A column-vector y was passed when a 1d array was expected. Please change the shape of y to (n_samples, ), for example using ravel().\n",
            "  y = column_or_1d(y, warn=True)\n",
            "/usr/local/lib/python3.6/dist-packages/sklearn/utils/validation.py:760: DataConversionWarning: A column-vector y was passed when a 1d array was expected. Please change the shape of y to (n_samples, ), for example using ravel().\n",
            "  y = column_or_1d(y, warn=True)\n",
            "/usr/local/lib/python3.6/dist-packages/sklearn/utils/validation.py:760: DataConversionWarning: A column-vector y was passed when a 1d array was expected. Please change the shape of y to (n_samples, ), for example using ravel().\n",
            "  y = column_or_1d(y, warn=True)\n",
            "/usr/local/lib/python3.6/dist-packages/sklearn/utils/validation.py:760: DataConversionWarning: A column-vector y was passed when a 1d array was expected. Please change the shape of y to (n_samples, ), for example using ravel().\n",
            "  y = column_or_1d(y, warn=True)\n"
          ],
          "name": "stderr"
        },
        {
          "output_type": "stream",
          "text": [
            "---------------------------------\n",
            "SVC(C=1.0, break_ties=False, cache_size=200, class_weight=None, coef0=0.0,\n",
            "    decision_function_shape='ovr', degree=3, gamma='scale', kernel='rbf',\n",
            "    max_iter=-1, probability=False, random_state=None, shrinking=True,\n",
            "    tol=0.001, verbose=False)\n",
            "-----------------------------------\n",
            "fit_time  mean  1.6730595111846924\n",
            "fit_time  std  0.043744894482211874\n",
            "score_time  mean  0.24873003959655762\n",
            "score_time  std  0.007867383464873076\n",
            "test_score  mean  0.6768627993912951\n",
            "test_score  std  0.008802795967874939\n"
          ],
          "name": "stdout"
        },
        {
          "output_type": "stream",
          "text": [
            "/usr/local/lib/python3.6/dist-packages/sklearn/pipeline.py:354: DataConversionWarning: A column-vector y was passed when a 1d array was expected. Please change the shape of y to (n_samples, ), for example using ravel().\n",
            "  self._final_estimator.fit(Xt, y, **fit_params)\n",
            "/usr/local/lib/python3.6/dist-packages/sklearn/pipeline.py:354: DataConversionWarning: A column-vector y was passed when a 1d array was expected. Please change the shape of y to (n_samples, ), for example using ravel().\n",
            "  self._final_estimator.fit(Xt, y, **fit_params)\n",
            "/usr/local/lib/python3.6/dist-packages/sklearn/pipeline.py:354: DataConversionWarning: A column-vector y was passed when a 1d array was expected. Please change the shape of y to (n_samples, ), for example using ravel().\n",
            "  self._final_estimator.fit(Xt, y, **fit_params)\n",
            "/usr/local/lib/python3.6/dist-packages/sklearn/pipeline.py:354: DataConversionWarning: A column-vector y was passed when a 1d array was expected. Please change the shape of y to (n_samples, ), for example using ravel().\n",
            "  self._final_estimator.fit(Xt, y, **fit_params)\n",
            "/usr/local/lib/python3.6/dist-packages/sklearn/pipeline.py:354: DataConversionWarning: A column-vector y was passed when a 1d array was expected. Please change the shape of y to (n_samples, ), for example using ravel().\n",
            "  self._final_estimator.fit(Xt, y, **fit_params)\n"
          ],
          "name": "stderr"
        },
        {
          "output_type": "stream",
          "text": [
            "---------------------------------\n",
            "KNeighborsClassifier(algorithm='auto', leaf_size=30, metric='minkowski',\n",
            "                     metric_params=None, n_jobs=None, n_neighbors=3, p=2,\n",
            "                     weights='uniform')\n",
            "-----------------------------------\n",
            "fit_time  mean  0.02273097038269043\n",
            "fit_time  std  0.001033800252984439\n",
            "score_time  mean  0.42018952369689944\n",
            "score_time  std  0.034223270647132945\n",
            "test_score  mean  0.637128943259346\n",
            "test_score  std  0.008004848905894982\n",
            "---------------------------------\n",
            "DecisionTreeClassifier(ccp_alpha=0.0, class_weight=None, criterion='gini',\n",
            "                       max_depth=None, max_features=None, max_leaf_nodes=None,\n",
            "                       min_impurity_decrease=0.0, min_impurity_split=None,\n",
            "                       min_samples_leaf=1, min_samples_split=2,\n",
            "                       min_weight_fraction_leaf=0.0, presort='deprecated',\n",
            "                       random_state=None, splitter='best')\n",
            "-----------------------------------\n",
            "fit_time  mean  0.06415104866027832\n",
            "fit_time  std  0.0011313854369217025\n",
            "score_time  mean  0.009504413604736328\n",
            "score_time  std  0.0004276961006671726\n",
            "test_score  mean  0.6642157751055731\n",
            "test_score  std  0.010191374291016563\n"
          ],
          "name": "stdout"
        },
        {
          "output_type": "stream",
          "text": [
            "/usr/local/lib/python3.6/dist-packages/sklearn/pipeline.py:354: DataConversionWarning: A column-vector y was passed when a 1d array was expected. Please change the shape of y to (n_samples,), for example using ravel().\n",
            "  self._final_estimator.fit(Xt, y, **fit_params)\n",
            "/usr/local/lib/python3.6/dist-packages/sklearn/pipeline.py:354: DataConversionWarning: A column-vector y was passed when a 1d array was expected. Please change the shape of y to (n_samples,), for example using ravel().\n",
            "  self._final_estimator.fit(Xt, y, **fit_params)\n",
            "/usr/local/lib/python3.6/dist-packages/sklearn/pipeline.py:354: DataConversionWarning: A column-vector y was passed when a 1d array was expected. Please change the shape of y to (n_samples,), for example using ravel().\n",
            "  self._final_estimator.fit(Xt, y, **fit_params)\n",
            "/usr/local/lib/python3.6/dist-packages/sklearn/pipeline.py:354: DataConversionWarning: A column-vector y was passed when a 1d array was expected. Please change the shape of y to (n_samples,), for example using ravel().\n",
            "  self._final_estimator.fit(Xt, y, **fit_params)\n",
            "/usr/local/lib/python3.6/dist-packages/sklearn/pipeline.py:354: DataConversionWarning: A column-vector y was passed when a 1d array was expected. Please change the shape of y to (n_samples,), for example using ravel().\n",
            "  self._final_estimator.fit(Xt, y, **fit_params)\n"
          ],
          "name": "stderr"
        },
        {
          "output_type": "stream",
          "text": [
            "---------------------------------\n",
            "RandomForestClassifier(bootstrap=True, ccp_alpha=0.0, class_weight=None,\n",
            "                       criterion='gini', max_depth=None, max_features='auto',\n",
            "                       max_leaf_nodes=None, max_samples=None,\n",
            "                       min_impurity_decrease=0.0, min_impurity_split=None,\n",
            "                       min_samples_leaf=1, min_samples_split=2,\n",
            "                       min_weight_fraction_leaf=0.0, n_estimators=100,\n",
            "                       n_jobs=None, oob_score=False, random_state=None,\n",
            "                       verbose=0, warm_start=False)\n",
            "-----------------------------------\n",
            "fit_time  mean  2.1175632953643797\n",
            "fit_time  std  0.011338316730577601\n",
            "score_time  mean  0.04544267654418945\n",
            "score_time  std  0.0014110137375948856\n",
            "test_score  mean  0.6749810532035545\n",
            "test_score  std  0.010120242750007396\n"
          ],
          "name": "stdout"
        },
        {
          "output_type": "stream",
          "text": [
            "/usr/local/lib/python3.6/dist-packages/sklearn/ensemble/_gb.py:1454: DataConversionWarning: A column-vector y was passed when a 1d array was expected. Please change the shape of y to (n_samples, ), for example using ravel().\n",
            "  y = column_or_1d(y, warn=True)\n",
            "/usr/local/lib/python3.6/dist-packages/sklearn/ensemble/_gb.py:1454: DataConversionWarning: A column-vector y was passed when a 1d array was expected. Please change the shape of y to (n_samples, ), for example using ravel().\n",
            "  y = column_or_1d(y, warn=True)\n",
            "/usr/local/lib/python3.6/dist-packages/sklearn/ensemble/_gb.py:1454: DataConversionWarning: A column-vector y was passed when a 1d array was expected. Please change the shape of y to (n_samples, ), for example using ravel().\n",
            "  y = column_or_1d(y, warn=True)\n",
            "/usr/local/lib/python3.6/dist-packages/sklearn/ensemble/_gb.py:1454: DataConversionWarning: A column-vector y was passed when a 1d array was expected. Please change the shape of y to (n_samples, ), for example using ravel().\n",
            "  y = column_or_1d(y, warn=True)\n",
            "/usr/local/lib/python3.6/dist-packages/sklearn/ensemble/_gb.py:1454: DataConversionWarning: A column-vector y was passed when a 1d array was expected. Please change the shape of y to (n_samples, ), for example using ravel().\n",
            "  y = column_or_1d(y, warn=True)\n"
          ],
          "name": "stderr"
        },
        {
          "output_type": "stream",
          "text": [
            "---------------------------------\n",
            "GradientBoostingClassifier(ccp_alpha=0.0, criterion='friedman_mse', init=None,\n",
            "                           learning_rate=0.1, loss='deviance', max_depth=3,\n",
            "                           max_features=None, max_leaf_nodes=None,\n",
            "                           min_impurity_decrease=0.0, min_impurity_split=None,\n",
            "                           min_samples_leaf=1, min_samples_split=2,\n",
            "                           min_weight_fraction_leaf=0.0, n_estimators=100,\n",
            "                           n_iter_no_change=None, presort='deprecated',\n",
            "                           random_state=None, subsample=1.0, tol=0.0001,\n",
            "                           validation_fraction=0.1, verbose=0,\n",
            "                           warm_start=False)\n",
            "-----------------------------------\n",
            "fit_time  mean  1.7538351535797119\n",
            "fit_time  std  0.020291353051022355\n",
            "score_time  mean  0.021356201171875\n",
            "score_time  std  0.0001953758778598468\n",
            "test_score  mean  0.6830634244284595\n",
            "test_score  std  0.010979827337529887\n"
          ],
          "name": "stdout"
        }
      ]
    },
    {
      "cell_type": "code",
      "metadata": {
        "id": "vy1iFIFh1QeR",
        "colab_type": "code",
        "outputId": "d4a9192f-e355-4ddf-86ff-2b63b561fa7c",
        "colab": {
          "base_uri": "https://localhost:8080/",
          "height": 1000
        }
      },
      "source": [
        "# Random Forest Model\n",
        "# Use Randomized Search CV to find the ranges of parameters to look into\n",
        "\n",
        "from sklearn.ensemble import RandomForestClassifier\n",
        "regr = Pipeline(steps=[('preprocessor', preprocessor),\n",
        "                        ('clf', RandomForestClassifier())])\n",
        "\n",
        "from sklearn.model_selection import RandomizedSearchCV\n",
        "# Number of trees in random forest\n",
        "n_estimators = [int(x) for x in np.linspace(start = 200, stop = 2000, num = 100)]\n",
        "# Number of features to consider at every split\n",
        "max_features = ['auto', 'sqrt']\n",
        "# Maximum number of levels in tree\n",
        "max_depth = [int(x) for x in np.linspace(10, 110, num = 11)]\n",
        "max_depth.append(None)\n",
        "# Minimum number of samples required to split a node\n",
        "min_samples_split = [2, 5, 10]\n",
        "# Minimum number of samples required at each leaf node\n",
        "min_samples_leaf = [1, 2, 4]\n",
        "# Method of selecting samples for training each tree\n",
        "bootstrap = [True, False]\n",
        "\n",
        "scorer = metrics.make_scorer(metrics.f1_score, average = 'macro')\n",
        "\n",
        "random_grid = {'clf__n_estimators': n_estimators,\n",
        "               'clf__max_features': max_features,\n",
        "               'clf__max_depth': max_depth,\n",
        "               'clf__min_samples_split': min_samples_split,\n",
        "               'clf__min_samples_leaf': min_samples_leaf,\n",
        "               'clf__bootstrap': bootstrap}\n",
        "\n",
        "regr = Pipeline(steps=[('preprocessor', preprocessor),\n",
        "                        ('clf', RandomForestClassifier())])\n",
        "\n",
        "rf_random = RandomizedSearchCV(regr, random_grid, cv = 5, verbose=2, random_state=42, scoring=scorer)\n",
        "\n",
        "rf_random.fit(X_train, y_train)\n",
        "\n",
        "print(rf_random.best_params_) #{'clf__n_estimators': 1909, 'clf__min_samples_split': 10, 'clf__min_samples_leaf': 1, 'clf__max_features': 'sqrt', 'clf__max_depth': 90, 'clf__bootstrap': False}"
      ],
      "execution_count": 0,
      "outputs": [
        {
          "output_type": "stream",
          "text": [
            "Fitting 5 folds for each of 10 candidates, totalling 50 fits\n",
            "[CV] clf__n_estimators=1927, clf__min_samples_split=5, clf__min_samples_leaf=2, clf__max_features=sqrt, clf__max_depth=90, clf__bootstrap=True \n"
          ],
          "name": "stdout"
        },
        {
          "output_type": "stream",
          "text": [
            "[Parallel(n_jobs=1)]: Using backend SequentialBackend with 1 concurrent workers.\n",
            "/usr/local/lib/python3.6/dist-packages/sklearn/pipeline.py:354: DataConversionWarning: A column-vector y was passed when a 1d array was expected. Please change the shape of y to (n_samples,), for example using ravel().\n",
            "  self._final_estimator.fit(Xt, y, **fit_params)\n"
          ],
          "name": "stderr"
        },
        {
          "output_type": "stream",
          "text": [
            "[CV]  clf__n_estimators=1927, clf__min_samples_split=5, clf__min_samples_leaf=2, clf__max_features=sqrt, clf__max_depth=90, clf__bootstrap=True, total=  26.4s\n",
            "[CV] clf__n_estimators=1927, clf__min_samples_split=5, clf__min_samples_leaf=2, clf__max_features=sqrt, clf__max_depth=90, clf__bootstrap=True \n"
          ],
          "name": "stdout"
        },
        {
          "output_type": "stream",
          "text": [
            "[Parallel(n_jobs=1)]: Done   1 out of   1 | elapsed:   26.4s remaining:    0.0s\n",
            "/usr/local/lib/python3.6/dist-packages/sklearn/pipeline.py:354: DataConversionWarning: A column-vector y was passed when a 1d array was expected. Please change the shape of y to (n_samples,), for example using ravel().\n",
            "  self._final_estimator.fit(Xt, y, **fit_params)\n"
          ],
          "name": "stderr"
        },
        {
          "output_type": "stream",
          "text": [
            "[CV]  clf__n_estimators=1927, clf__min_samples_split=5, clf__min_samples_leaf=2, clf__max_features=sqrt, clf__max_depth=90, clf__bootstrap=True, total=  25.4s\n",
            "[CV] clf__n_estimators=1927, clf__min_samples_split=5, clf__min_samples_leaf=2, clf__max_features=sqrt, clf__max_depth=90, clf__bootstrap=True \n"
          ],
          "name": "stdout"
        },
        {
          "output_type": "stream",
          "text": [
            "/usr/local/lib/python3.6/dist-packages/sklearn/pipeline.py:354: DataConversionWarning: A column-vector y was passed when a 1d array was expected. Please change the shape of y to (n_samples,), for example using ravel().\n",
            "  self._final_estimator.fit(Xt, y, **fit_params)\n"
          ],
          "name": "stderr"
        },
        {
          "output_type": "stream",
          "text": [
            "[CV]  clf__n_estimators=1927, clf__min_samples_split=5, clf__min_samples_leaf=2, clf__max_features=sqrt, clf__max_depth=90, clf__bootstrap=True, total=  26.6s\n",
            "[CV] clf__n_estimators=1927, clf__min_samples_split=5, clf__min_samples_leaf=2, clf__max_features=sqrt, clf__max_depth=90, clf__bootstrap=True \n"
          ],
          "name": "stdout"
        },
        {
          "output_type": "stream",
          "text": [
            "/usr/local/lib/python3.6/dist-packages/sklearn/pipeline.py:354: DataConversionWarning: A column-vector y was passed when a 1d array was expected. Please change the shape of y to (n_samples,), for example using ravel().\n",
            "  self._final_estimator.fit(Xt, y, **fit_params)\n"
          ],
          "name": "stderr"
        },
        {
          "output_type": "stream",
          "text": [
            "[CV]  clf__n_estimators=1927, clf__min_samples_split=5, clf__min_samples_leaf=2, clf__max_features=sqrt, clf__max_depth=90, clf__bootstrap=True, total=  25.8s\n",
            "[CV] clf__n_estimators=1927, clf__min_samples_split=5, clf__min_samples_leaf=2, clf__max_features=sqrt, clf__max_depth=90, clf__bootstrap=True \n"
          ],
          "name": "stdout"
        },
        {
          "output_type": "stream",
          "text": [
            "/usr/local/lib/python3.6/dist-packages/sklearn/pipeline.py:354: DataConversionWarning: A column-vector y was passed when a 1d array was expected. Please change the shape of y to (n_samples,), for example using ravel().\n",
            "  self._final_estimator.fit(Xt, y, **fit_params)\n"
          ],
          "name": "stderr"
        },
        {
          "output_type": "stream",
          "text": [
            "[CV]  clf__n_estimators=1927, clf__min_samples_split=5, clf__min_samples_leaf=2, clf__max_features=sqrt, clf__max_depth=90, clf__bootstrap=True, total=  26.1s\n",
            "[CV] clf__n_estimators=1290, clf__min_samples_split=10, clf__min_samples_leaf=4, clf__max_features=auto, clf__max_depth=10, clf__bootstrap=True \n"
          ],
          "name": "stdout"
        },
        {
          "output_type": "stream",
          "text": [
            "/usr/local/lib/python3.6/dist-packages/sklearn/pipeline.py:354: DataConversionWarning: A column-vector y was passed when a 1d array was expected. Please change the shape of y to (n_samples,), for example using ravel().\n",
            "  self._final_estimator.fit(Xt, y, **fit_params)\n"
          ],
          "name": "stderr"
        },
        {
          "output_type": "stream",
          "text": [
            "[CV]  clf__n_estimators=1290, clf__min_samples_split=10, clf__min_samples_leaf=4, clf__max_features=auto, clf__max_depth=10, clf__bootstrap=True, total=   9.9s\n",
            "[CV] clf__n_estimators=1290, clf__min_samples_split=10, clf__min_samples_leaf=4, clf__max_features=auto, clf__max_depth=10, clf__bootstrap=True \n"
          ],
          "name": "stdout"
        },
        {
          "output_type": "stream",
          "text": [
            "/usr/local/lib/python3.6/dist-packages/sklearn/pipeline.py:354: DataConversionWarning: A column-vector y was passed when a 1d array was expected. Please change the shape of y to (n_samples,), for example using ravel().\n",
            "  self._final_estimator.fit(Xt, y, **fit_params)\n"
          ],
          "name": "stderr"
        },
        {
          "output_type": "stream",
          "text": [
            "[CV]  clf__n_estimators=1290, clf__min_samples_split=10, clf__min_samples_leaf=4, clf__max_features=auto, clf__max_depth=10, clf__bootstrap=True, total=   9.6s\n",
            "[CV] clf__n_estimators=1290, clf__min_samples_split=10, clf__min_samples_leaf=4, clf__max_features=auto, clf__max_depth=10, clf__bootstrap=True \n"
          ],
          "name": "stdout"
        },
        {
          "output_type": "stream",
          "text": [
            "/usr/local/lib/python3.6/dist-packages/sklearn/pipeline.py:354: DataConversionWarning: A column-vector y was passed when a 1d array was expected. Please change the shape of y to (n_samples,), for example using ravel().\n",
            "  self._final_estimator.fit(Xt, y, **fit_params)\n"
          ],
          "name": "stderr"
        },
        {
          "output_type": "stream",
          "text": [
            "[CV]  clf__n_estimators=1290, clf__min_samples_split=10, clf__min_samples_leaf=4, clf__max_features=auto, clf__max_depth=10, clf__bootstrap=True, total=   9.9s\n",
            "[CV] clf__n_estimators=1290, clf__min_samples_split=10, clf__min_samples_leaf=4, clf__max_features=auto, clf__max_depth=10, clf__bootstrap=True \n"
          ],
          "name": "stdout"
        },
        {
          "output_type": "stream",
          "text": [
            "/usr/local/lib/python3.6/dist-packages/sklearn/pipeline.py:354: DataConversionWarning: A column-vector y was passed when a 1d array was expected. Please change the shape of y to (n_samples,), for example using ravel().\n",
            "  self._final_estimator.fit(Xt, y, **fit_params)\n"
          ],
          "name": "stderr"
        },
        {
          "output_type": "stream",
          "text": [
            "[CV]  clf__n_estimators=1290, clf__min_samples_split=10, clf__min_samples_leaf=4, clf__max_features=auto, clf__max_depth=10, clf__bootstrap=True, total=  10.0s\n",
            "[CV] clf__n_estimators=1290, clf__min_samples_split=10, clf__min_samples_leaf=4, clf__max_features=auto, clf__max_depth=10, clf__bootstrap=True \n"
          ],
          "name": "stdout"
        },
        {
          "output_type": "stream",
          "text": [
            "/usr/local/lib/python3.6/dist-packages/sklearn/pipeline.py:354: DataConversionWarning: A column-vector y was passed when a 1d array was expected. Please change the shape of y to (n_samples,), for example using ravel().\n",
            "  self._final_estimator.fit(Xt, y, **fit_params)\n"
          ],
          "name": "stderr"
        },
        {
          "output_type": "stream",
          "text": [
            "[CV]  clf__n_estimators=1290, clf__min_samples_split=10, clf__min_samples_leaf=4, clf__max_features=auto, clf__max_depth=10, clf__bootstrap=True, total=   9.9s\n",
            "[CV] clf__n_estimators=1254, clf__min_samples_split=2, clf__min_samples_leaf=2, clf__max_features=auto, clf__max_depth=100, clf__bootstrap=False \n"
          ],
          "name": "stdout"
        },
        {
          "output_type": "stream",
          "text": [
            "/usr/local/lib/python3.6/dist-packages/sklearn/pipeline.py:354: DataConversionWarning: A column-vector y was passed when a 1d array was expected. Please change the shape of y to (n_samples,), for example using ravel().\n",
            "  self._final_estimator.fit(Xt, y, **fit_params)\n"
          ],
          "name": "stderr"
        },
        {
          "output_type": "stream",
          "text": [
            "[CV]  clf__n_estimators=1254, clf__min_samples_split=2, clf__min_samples_leaf=2, clf__max_features=auto, clf__max_depth=100, clf__bootstrap=False, total=  21.3s\n",
            "[CV] clf__n_estimators=1254, clf__min_samples_split=2, clf__min_samples_leaf=2, clf__max_features=auto, clf__max_depth=100, clf__bootstrap=False \n"
          ],
          "name": "stdout"
        },
        {
          "output_type": "stream",
          "text": [
            "/usr/local/lib/python3.6/dist-packages/sklearn/pipeline.py:354: DataConversionWarning: A column-vector y was passed when a 1d array was expected. Please change the shape of y to (n_samples,), for example using ravel().\n",
            "  self._final_estimator.fit(Xt, y, **fit_params)\n"
          ],
          "name": "stderr"
        },
        {
          "output_type": "stream",
          "text": [
            "[CV]  clf__n_estimators=1254, clf__min_samples_split=2, clf__min_samples_leaf=2, clf__max_features=auto, clf__max_depth=100, clf__bootstrap=False, total=  20.4s\n",
            "[CV] clf__n_estimators=1254, clf__min_samples_split=2, clf__min_samples_leaf=2, clf__max_features=auto, clf__max_depth=100, clf__bootstrap=False \n"
          ],
          "name": "stdout"
        },
        {
          "output_type": "stream",
          "text": [
            "/usr/local/lib/python3.6/dist-packages/sklearn/pipeline.py:354: DataConversionWarning: A column-vector y was passed when a 1d array was expected. Please change the shape of y to (n_samples,), for example using ravel().\n",
            "  self._final_estimator.fit(Xt, y, **fit_params)\n"
          ],
          "name": "stderr"
        },
        {
          "output_type": "stream",
          "text": [
            "[CV]  clf__n_estimators=1254, clf__min_samples_split=2, clf__min_samples_leaf=2, clf__max_features=auto, clf__max_depth=100, clf__bootstrap=False, total=  22.0s\n",
            "[CV] clf__n_estimators=1254, clf__min_samples_split=2, clf__min_samples_leaf=2, clf__max_features=auto, clf__max_depth=100, clf__bootstrap=False \n"
          ],
          "name": "stdout"
        },
        {
          "output_type": "stream",
          "text": [
            "/usr/local/lib/python3.6/dist-packages/sklearn/pipeline.py:354: DataConversionWarning: A column-vector y was passed when a 1d array was expected. Please change the shape of y to (n_samples,), for example using ravel().\n",
            "  self._final_estimator.fit(Xt, y, **fit_params)\n"
          ],
          "name": "stderr"
        },
        {
          "output_type": "stream",
          "text": [
            "[CV]  clf__n_estimators=1254, clf__min_samples_split=2, clf__min_samples_leaf=2, clf__max_features=auto, clf__max_depth=100, clf__bootstrap=False, total=  21.1s\n",
            "[CV] clf__n_estimators=1254, clf__min_samples_split=2, clf__min_samples_leaf=2, clf__max_features=auto, clf__max_depth=100, clf__bootstrap=False \n"
          ],
          "name": "stdout"
        },
        {
          "output_type": "stream",
          "text": [
            "/usr/local/lib/python3.6/dist-packages/sklearn/pipeline.py:354: DataConversionWarning: A column-vector y was passed when a 1d array was expected. Please change the shape of y to (n_samples,), for example using ravel().\n",
            "  self._final_estimator.fit(Xt, y, **fit_params)\n"
          ],
          "name": "stderr"
        },
        {
          "output_type": "stream",
          "text": [
            "[CV]  clf__n_estimators=1254, clf__min_samples_split=2, clf__min_samples_leaf=2, clf__max_features=auto, clf__max_depth=100, clf__bootstrap=False, total=  21.3s\n",
            "[CV] clf__n_estimators=1727, clf__min_samples_split=5, clf__min_samples_leaf=2, clf__max_features=auto, clf__max_depth=70, clf__bootstrap=True \n"
          ],
          "name": "stdout"
        },
        {
          "output_type": "stream",
          "text": [
            "/usr/local/lib/python3.6/dist-packages/sklearn/pipeline.py:354: DataConversionWarning: A column-vector y was passed when a 1d array was expected. Please change the shape of y to (n_samples,), for example using ravel().\n",
            "  self._final_estimator.fit(Xt, y, **fit_params)\n"
          ],
          "name": "stderr"
        },
        {
          "output_type": "stream",
          "text": [
            "[CV]  clf__n_estimators=1727, clf__min_samples_split=5, clf__min_samples_leaf=2, clf__max_features=auto, clf__max_depth=70, clf__bootstrap=True, total=  23.8s\n",
            "[CV] clf__n_estimators=1727, clf__min_samples_split=5, clf__min_samples_leaf=2, clf__max_features=auto, clf__max_depth=70, clf__bootstrap=True \n"
          ],
          "name": "stdout"
        },
        {
          "output_type": "stream",
          "text": [
            "/usr/local/lib/python3.6/dist-packages/sklearn/pipeline.py:354: DataConversionWarning: A column-vector y was passed when a 1d array was expected. Please change the shape of y to (n_samples,), for example using ravel().\n",
            "  self._final_estimator.fit(Xt, y, **fit_params)\n"
          ],
          "name": "stderr"
        },
        {
          "output_type": "stream",
          "text": [
            "[CV]  clf__n_estimators=1727, clf__min_samples_split=5, clf__min_samples_leaf=2, clf__max_features=auto, clf__max_depth=70, clf__bootstrap=True, total=  23.3s\n",
            "[CV] clf__n_estimators=1727, clf__min_samples_split=5, clf__min_samples_leaf=2, clf__max_features=auto, clf__max_depth=70, clf__bootstrap=True \n"
          ],
          "name": "stdout"
        },
        {
          "output_type": "stream",
          "text": [
            "/usr/local/lib/python3.6/dist-packages/sklearn/pipeline.py:354: DataConversionWarning: A column-vector y was passed when a 1d array was expected. Please change the shape of y to (n_samples,), for example using ravel().\n",
            "  self._final_estimator.fit(Xt, y, **fit_params)\n"
          ],
          "name": "stderr"
        },
        {
          "output_type": "stream",
          "text": [
            "[CV]  clf__n_estimators=1727, clf__min_samples_split=5, clf__min_samples_leaf=2, clf__max_features=auto, clf__max_depth=70, clf__bootstrap=True, total=  23.8s\n",
            "[CV] clf__n_estimators=1727, clf__min_samples_split=5, clf__min_samples_leaf=2, clf__max_features=auto, clf__max_depth=70, clf__bootstrap=True \n"
          ],
          "name": "stdout"
        },
        {
          "output_type": "stream",
          "text": [
            "/usr/local/lib/python3.6/dist-packages/sklearn/pipeline.py:354: DataConversionWarning: A column-vector y was passed when a 1d array was expected. Please change the shape of y to (n_samples,), for example using ravel().\n",
            "  self._final_estimator.fit(Xt, y, **fit_params)\n"
          ],
          "name": "stderr"
        },
        {
          "output_type": "stream",
          "text": [
            "[CV]  clf__n_estimators=1727, clf__min_samples_split=5, clf__min_samples_leaf=2, clf__max_features=auto, clf__max_depth=70, clf__bootstrap=True, total=  23.3s\n",
            "[CV] clf__n_estimators=1727, clf__min_samples_split=5, clf__min_samples_leaf=2, clf__max_features=auto, clf__max_depth=70, clf__bootstrap=True \n"
          ],
          "name": "stdout"
        },
        {
          "output_type": "stream",
          "text": [
            "/usr/local/lib/python3.6/dist-packages/sklearn/pipeline.py:354: DataConversionWarning: A column-vector y was passed when a 1d array was expected. Please change the shape of y to (n_samples,), for example using ravel().\n",
            "  self._final_estimator.fit(Xt, y, **fit_params)\n"
          ],
          "name": "stderr"
        },
        {
          "output_type": "stream",
          "text": [
            "[CV]  clf__n_estimators=1727, clf__min_samples_split=5, clf__min_samples_leaf=2, clf__max_features=auto, clf__max_depth=70, clf__bootstrap=True, total=  23.2s\n",
            "[CV] clf__n_estimators=1381, clf__min_samples_split=10, clf__min_samples_leaf=4, clf__max_features=auto, clf__max_depth=40, clf__bootstrap=True \n"
          ],
          "name": "stdout"
        },
        {
          "output_type": "stream",
          "text": [
            "/usr/local/lib/python3.6/dist-packages/sklearn/pipeline.py:354: DataConversionWarning: A column-vector y was passed when a 1d array was expected. Please change the shape of y to (n_samples,), for example using ravel().\n",
            "  self._final_estimator.fit(Xt, y, **fit_params)\n"
          ],
          "name": "stderr"
        },
        {
          "output_type": "stream",
          "text": [
            "[CV]  clf__n_estimators=1381, clf__min_samples_split=10, clf__min_samples_leaf=4, clf__max_features=auto, clf__max_depth=40, clf__bootstrap=True, total=  13.7s\n",
            "[CV] clf__n_estimators=1381, clf__min_samples_split=10, clf__min_samples_leaf=4, clf__max_features=auto, clf__max_depth=40, clf__bootstrap=True \n"
          ],
          "name": "stdout"
        },
        {
          "output_type": "stream",
          "text": [
            "/usr/local/lib/python3.6/dist-packages/sklearn/pipeline.py:354: DataConversionWarning: A column-vector y was passed when a 1d array was expected. Please change the shape of y to (n_samples,), for example using ravel().\n",
            "  self._final_estimator.fit(Xt, y, **fit_params)\n"
          ],
          "name": "stderr"
        },
        {
          "output_type": "stream",
          "text": [
            "[CV]  clf__n_estimators=1381, clf__min_samples_split=10, clf__min_samples_leaf=4, clf__max_features=auto, clf__max_depth=40, clf__bootstrap=True, total=  13.0s\n",
            "[CV] clf__n_estimators=1381, clf__min_samples_split=10, clf__min_samples_leaf=4, clf__max_features=auto, clf__max_depth=40, clf__bootstrap=True \n"
          ],
          "name": "stdout"
        },
        {
          "output_type": "stream",
          "text": [
            "/usr/local/lib/python3.6/dist-packages/sklearn/pipeline.py:354: DataConversionWarning: A column-vector y was passed when a 1d array was expected. Please change the shape of y to (n_samples,), for example using ravel().\n",
            "  self._final_estimator.fit(Xt, y, **fit_params)\n"
          ],
          "name": "stderr"
        },
        {
          "output_type": "stream",
          "text": [
            "[CV]  clf__n_estimators=1381, clf__min_samples_split=10, clf__min_samples_leaf=4, clf__max_features=auto, clf__max_depth=40, clf__bootstrap=True, total=  13.6s\n",
            "[CV] clf__n_estimators=1381, clf__min_samples_split=10, clf__min_samples_leaf=4, clf__max_features=auto, clf__max_depth=40, clf__bootstrap=True \n"
          ],
          "name": "stdout"
        },
        {
          "output_type": "stream",
          "text": [
            "/usr/local/lib/python3.6/dist-packages/sklearn/pipeline.py:354: DataConversionWarning: A column-vector y was passed when a 1d array was expected. Please change the shape of y to (n_samples,), for example using ravel().\n",
            "  self._final_estimator.fit(Xt, y, **fit_params)\n"
          ],
          "name": "stderr"
        },
        {
          "output_type": "stream",
          "text": [
            "[CV]  clf__n_estimators=1381, clf__min_samples_split=10, clf__min_samples_leaf=4, clf__max_features=auto, clf__max_depth=40, clf__bootstrap=True, total=  13.7s\n",
            "[CV] clf__n_estimators=1381, clf__min_samples_split=10, clf__min_samples_leaf=4, clf__max_features=auto, clf__max_depth=40, clf__bootstrap=True \n"
          ],
          "name": "stdout"
        },
        {
          "output_type": "stream",
          "text": [
            "/usr/local/lib/python3.6/dist-packages/sklearn/pipeline.py:354: DataConversionWarning: A column-vector y was passed when a 1d array was expected. Please change the shape of y to (n_samples,), for example using ravel().\n",
            "  self._final_estimator.fit(Xt, y, **fit_params)\n"
          ],
          "name": "stderr"
        },
        {
          "output_type": "stream",
          "text": [
            "[CV]  clf__n_estimators=1381, clf__min_samples_split=10, clf__min_samples_leaf=4, clf__max_features=auto, clf__max_depth=40, clf__bootstrap=True, total=  13.8s\n",
            "[CV] clf__n_estimators=1109, clf__min_samples_split=2, clf__min_samples_leaf=4, clf__max_features=auto, clf__max_depth=100, clf__bootstrap=True \n"
          ],
          "name": "stdout"
        },
        {
          "output_type": "stream",
          "text": [
            "/usr/local/lib/python3.6/dist-packages/sklearn/pipeline.py:354: DataConversionWarning: A column-vector y was passed when a 1d array was expected. Please change the shape of y to (n_samples,), for example using ravel().\n",
            "  self._final_estimator.fit(Xt, y, **fit_params)\n"
          ],
          "name": "stderr"
        },
        {
          "output_type": "stream",
          "text": [
            "[CV]  clf__n_estimators=1109, clf__min_samples_split=2, clf__min_samples_leaf=4, clf__max_features=auto, clf__max_depth=100, clf__bootstrap=True, total=  11.2s\n",
            "[CV] clf__n_estimators=1109, clf__min_samples_split=2, clf__min_samples_leaf=4, clf__max_features=auto, clf__max_depth=100, clf__bootstrap=True \n"
          ],
          "name": "stdout"
        },
        {
          "output_type": "stream",
          "text": [
            "/usr/local/lib/python3.6/dist-packages/sklearn/pipeline.py:354: DataConversionWarning: A column-vector y was passed when a 1d array was expected. Please change the shape of y to (n_samples,), for example using ravel().\n",
            "  self._final_estimator.fit(Xt, y, **fit_params)\n"
          ],
          "name": "stderr"
        },
        {
          "output_type": "stream",
          "text": [
            "[CV]  clf__n_estimators=1109, clf__min_samples_split=2, clf__min_samples_leaf=4, clf__max_features=auto, clf__max_depth=100, clf__bootstrap=True, total=  10.5s\n",
            "[CV] clf__n_estimators=1109, clf__min_samples_split=2, clf__min_samples_leaf=4, clf__max_features=auto, clf__max_depth=100, clf__bootstrap=True \n"
          ],
          "name": "stdout"
        },
        {
          "output_type": "stream",
          "text": [
            "/usr/local/lib/python3.6/dist-packages/sklearn/pipeline.py:354: DataConversionWarning: A column-vector y was passed when a 1d array was expected. Please change the shape of y to (n_samples,), for example using ravel().\n",
            "  self._final_estimator.fit(Xt, y, **fit_params)\n"
          ],
          "name": "stderr"
        },
        {
          "output_type": "stream",
          "text": [
            "[CV]  clf__n_estimators=1109, clf__min_samples_split=2, clf__min_samples_leaf=4, clf__max_features=auto, clf__max_depth=100, clf__bootstrap=True, total=  11.0s\n",
            "[CV] clf__n_estimators=1109, clf__min_samples_split=2, clf__min_samples_leaf=4, clf__max_features=auto, clf__max_depth=100, clf__bootstrap=True \n"
          ],
          "name": "stdout"
        },
        {
          "output_type": "stream",
          "text": [
            "/usr/local/lib/python3.6/dist-packages/sklearn/pipeline.py:354: DataConversionWarning: A column-vector y was passed when a 1d array was expected. Please change the shape of y to (n_samples,), for example using ravel().\n",
            "  self._final_estimator.fit(Xt, y, **fit_params)\n"
          ],
          "name": "stderr"
        },
        {
          "output_type": "stream",
          "text": [
            "[CV]  clf__n_estimators=1109, clf__min_samples_split=2, clf__min_samples_leaf=4, clf__max_features=auto, clf__max_depth=100, clf__bootstrap=True, total=  10.8s\n",
            "[CV] clf__n_estimators=1109, clf__min_samples_split=2, clf__min_samples_leaf=4, clf__max_features=auto, clf__max_depth=100, clf__bootstrap=True \n"
          ],
          "name": "stdout"
        },
        {
          "output_type": "stream",
          "text": [
            "/usr/local/lib/python3.6/dist-packages/sklearn/pipeline.py:354: DataConversionWarning: A column-vector y was passed when a 1d array was expected. Please change the shape of y to (n_samples,), for example using ravel().\n",
            "  self._final_estimator.fit(Xt, y, **fit_params)\n"
          ],
          "name": "stderr"
        },
        {
          "output_type": "stream",
          "text": [
            "[CV]  clf__n_estimators=1109, clf__min_samples_split=2, clf__min_samples_leaf=4, clf__max_features=auto, clf__max_depth=100, clf__bootstrap=True, total=  10.7s\n",
            "[CV] clf__n_estimators=1909, clf__min_samples_split=10, clf__min_samples_leaf=1, clf__max_features=sqrt, clf__max_depth=90, clf__bootstrap=False \n"
          ],
          "name": "stdout"
        },
        {
          "output_type": "stream",
          "text": [
            "/usr/local/lib/python3.6/dist-packages/sklearn/pipeline.py:354: DataConversionWarning: A column-vector y was passed when a 1d array was expected. Please change the shape of y to (n_samples,), for example using ravel().\n",
            "  self._final_estimator.fit(Xt, y, **fit_params)\n"
          ],
          "name": "stderr"
        },
        {
          "output_type": "stream",
          "text": [
            "[CV]  clf__n_estimators=1909, clf__min_samples_split=10, clf__min_samples_leaf=1, clf__max_features=sqrt, clf__max_depth=90, clf__bootstrap=False, total=  44.0s\n",
            "[CV] clf__n_estimators=1909, clf__min_samples_split=10, clf__min_samples_leaf=1, clf__max_features=sqrt, clf__max_depth=90, clf__bootstrap=False \n"
          ],
          "name": "stdout"
        },
        {
          "output_type": "stream",
          "text": [
            "/usr/local/lib/python3.6/dist-packages/sklearn/pipeline.py:354: DataConversionWarning: A column-vector y was passed when a 1d array was expected. Please change the shape of y to (n_samples,), for example using ravel().\n",
            "  self._final_estimator.fit(Xt, y, **fit_params)\n"
          ],
          "name": "stderr"
        },
        {
          "output_type": "stream",
          "text": [
            "[CV]  clf__n_estimators=1909, clf__min_samples_split=10, clf__min_samples_leaf=1, clf__max_features=sqrt, clf__max_depth=90, clf__bootstrap=False, total=  44.0s\n",
            "[CV] clf__n_estimators=1909, clf__min_samples_split=10, clf__min_samples_leaf=1, clf__max_features=sqrt, clf__max_depth=90, clf__bootstrap=False \n"
          ],
          "name": "stdout"
        },
        {
          "output_type": "stream",
          "text": [
            "/usr/local/lib/python3.6/dist-packages/sklearn/pipeline.py:354: DataConversionWarning: A column-vector y was passed when a 1d array was expected. Please change the shape of y to (n_samples,), for example using ravel().\n",
            "  self._final_estimator.fit(Xt, y, **fit_params)\n"
          ],
          "name": "stderr"
        },
        {
          "output_type": "stream",
          "text": [
            "[CV]  clf__n_estimators=1909, clf__min_samples_split=10, clf__min_samples_leaf=1, clf__max_features=sqrt, clf__max_depth=90, clf__bootstrap=False, total=  44.6s\n",
            "[CV] clf__n_estimators=1909, clf__min_samples_split=10, clf__min_samples_leaf=1, clf__max_features=sqrt, clf__max_depth=90, clf__bootstrap=False \n"
          ],
          "name": "stdout"
        },
        {
          "output_type": "stream",
          "text": [
            "/usr/local/lib/python3.6/dist-packages/sklearn/pipeline.py:354: DataConversionWarning: A column-vector y was passed when a 1d array was expected. Please change the shape of y to (n_samples,), for example using ravel().\n",
            "  self._final_estimator.fit(Xt, y, **fit_params)\n"
          ],
          "name": "stderr"
        },
        {
          "output_type": "stream",
          "text": [
            "[CV]  clf__n_estimators=1909, clf__min_samples_split=10, clf__min_samples_leaf=1, clf__max_features=sqrt, clf__max_depth=90, clf__bootstrap=False, total=  44.3s\n",
            "[CV] clf__n_estimators=1909, clf__min_samples_split=10, clf__min_samples_leaf=1, clf__max_features=sqrt, clf__max_depth=90, clf__bootstrap=False \n"
          ],
          "name": "stdout"
        },
        {
          "output_type": "stream",
          "text": [
            "/usr/local/lib/python3.6/dist-packages/sklearn/pipeline.py:354: DataConversionWarning: A column-vector y was passed when a 1d array was expected. Please change the shape of y to (n_samples,), for example using ravel().\n",
            "  self._final_estimator.fit(Xt, y, **fit_params)\n"
          ],
          "name": "stderr"
        },
        {
          "output_type": "stream",
          "text": [
            "[CV]  clf__n_estimators=1909, clf__min_samples_split=10, clf__min_samples_leaf=1, clf__max_features=sqrt, clf__max_depth=90, clf__bootstrap=False, total=  44.4s\n",
            "[CV] clf__n_estimators=1327, clf__min_samples_split=2, clf__min_samples_leaf=2, clf__max_features=auto, clf__max_depth=10, clf__bootstrap=False \n"
          ],
          "name": "stdout"
        },
        {
          "output_type": "stream",
          "text": [
            "/usr/local/lib/python3.6/dist-packages/sklearn/pipeline.py:354: DataConversionWarning: A column-vector y was passed when a 1d array was expected. Please change the shape of y to (n_samples,), for example using ravel().\n",
            "  self._final_estimator.fit(Xt, y, **fit_params)\n"
          ],
          "name": "stderr"
        },
        {
          "output_type": "stream",
          "text": [
            "[CV]  clf__n_estimators=1327, clf__min_samples_split=2, clf__min_samples_leaf=2, clf__max_features=auto, clf__max_depth=10, clf__bootstrap=False, total=  12.8s\n",
            "[CV] clf__n_estimators=1327, clf__min_samples_split=2, clf__min_samples_leaf=2, clf__max_features=auto, clf__max_depth=10, clf__bootstrap=False \n"
          ],
          "name": "stdout"
        },
        {
          "output_type": "stream",
          "text": [
            "/usr/local/lib/python3.6/dist-packages/sklearn/pipeline.py:354: DataConversionWarning: A column-vector y was passed when a 1d array was expected. Please change the shape of y to (n_samples,), for example using ravel().\n",
            "  self._final_estimator.fit(Xt, y, **fit_params)\n"
          ],
          "name": "stderr"
        },
        {
          "output_type": "stream",
          "text": [
            "[CV]  clf__n_estimators=1327, clf__min_samples_split=2, clf__min_samples_leaf=2, clf__max_features=auto, clf__max_depth=10, clf__bootstrap=False, total=  12.3s\n",
            "[CV] clf__n_estimators=1327, clf__min_samples_split=2, clf__min_samples_leaf=2, clf__max_features=auto, clf__max_depth=10, clf__bootstrap=False \n"
          ],
          "name": "stdout"
        },
        {
          "output_type": "stream",
          "text": [
            "/usr/local/lib/python3.6/dist-packages/sklearn/pipeline.py:354: DataConversionWarning: A column-vector y was passed when a 1d array was expected. Please change the shape of y to (n_samples,), for example using ravel().\n",
            "  self._final_estimator.fit(Xt, y, **fit_params)\n"
          ],
          "name": "stderr"
        },
        {
          "output_type": "stream",
          "text": [
            "[CV]  clf__n_estimators=1327, clf__min_samples_split=2, clf__min_samples_leaf=2, clf__max_features=auto, clf__max_depth=10, clf__bootstrap=False, total=  13.1s\n",
            "[CV] clf__n_estimators=1327, clf__min_samples_split=2, clf__min_samples_leaf=2, clf__max_features=auto, clf__max_depth=10, clf__bootstrap=False \n"
          ],
          "name": "stdout"
        },
        {
          "output_type": "stream",
          "text": [
            "/usr/local/lib/python3.6/dist-packages/sklearn/pipeline.py:354: DataConversionWarning: A column-vector y was passed when a 1d array was expected. Please change the shape of y to (n_samples,), for example using ravel().\n",
            "  self._final_estimator.fit(Xt, y, **fit_params)\n"
          ],
          "name": "stderr"
        },
        {
          "output_type": "stream",
          "text": [
            "[CV]  clf__n_estimators=1327, clf__min_samples_split=2, clf__min_samples_leaf=2, clf__max_features=auto, clf__max_depth=10, clf__bootstrap=False, total=  12.5s\n",
            "[CV] clf__n_estimators=1327, clf__min_samples_split=2, clf__min_samples_leaf=2, clf__max_features=auto, clf__max_depth=10, clf__bootstrap=False \n"
          ],
          "name": "stdout"
        },
        {
          "output_type": "stream",
          "text": [
            "/usr/local/lib/python3.6/dist-packages/sklearn/pipeline.py:354: DataConversionWarning: A column-vector y was passed when a 1d array was expected. Please change the shape of y to (n_samples,), for example using ravel().\n",
            "  self._final_estimator.fit(Xt, y, **fit_params)\n"
          ],
          "name": "stderr"
        },
        {
          "output_type": "stream",
          "text": [
            "[CV]  clf__n_estimators=1327, clf__min_samples_split=2, clf__min_samples_leaf=2, clf__max_features=auto, clf__max_depth=10, clf__bootstrap=False, total=  12.7s\n",
            "[CV] clf__n_estimators=618, clf__min_samples_split=5, clf__min_samples_leaf=4, clf__max_features=sqrt, clf__max_depth=90, clf__bootstrap=True \n"
          ],
          "name": "stdout"
        },
        {
          "output_type": "stream",
          "text": [
            "/usr/local/lib/python3.6/dist-packages/sklearn/pipeline.py:354: DataConversionWarning: A column-vector y was passed when a 1d array was expected. Please change the shape of y to (n_samples,), for example using ravel().\n",
            "  self._final_estimator.fit(Xt, y, **fit_params)\n"
          ],
          "name": "stderr"
        },
        {
          "output_type": "stream",
          "text": [
            "[CV]  clf__n_estimators=618, clf__min_samples_split=5, clf__min_samples_leaf=4, clf__max_features=sqrt, clf__max_depth=90, clf__bootstrap=True, total=   6.2s\n",
            "[CV] clf__n_estimators=618, clf__min_samples_split=5, clf__min_samples_leaf=4, clf__max_features=sqrt, clf__max_depth=90, clf__bootstrap=True \n"
          ],
          "name": "stdout"
        },
        {
          "output_type": "stream",
          "text": [
            "/usr/local/lib/python3.6/dist-packages/sklearn/pipeline.py:354: DataConversionWarning: A column-vector y was passed when a 1d array was expected. Please change the shape of y to (n_samples,), for example using ravel().\n",
            "  self._final_estimator.fit(Xt, y, **fit_params)\n"
          ],
          "name": "stderr"
        },
        {
          "output_type": "stream",
          "text": [
            "[CV]  clf__n_estimators=618, clf__min_samples_split=5, clf__min_samples_leaf=4, clf__max_features=sqrt, clf__max_depth=90, clf__bootstrap=True, total=   5.8s\n",
            "[CV] clf__n_estimators=618, clf__min_samples_split=5, clf__min_samples_leaf=4, clf__max_features=sqrt, clf__max_depth=90, clf__bootstrap=True \n"
          ],
          "name": "stdout"
        },
        {
          "output_type": "stream",
          "text": [
            "/usr/local/lib/python3.6/dist-packages/sklearn/pipeline.py:354: DataConversionWarning: A column-vector y was passed when a 1d array was expected. Please change the shape of y to (n_samples,), for example using ravel().\n",
            "  self._final_estimator.fit(Xt, y, **fit_params)\n"
          ],
          "name": "stderr"
        },
        {
          "output_type": "stream",
          "text": [
            "[CV]  clf__n_estimators=618, clf__min_samples_split=5, clf__min_samples_leaf=4, clf__max_features=sqrt, clf__max_depth=90, clf__bootstrap=True, total=   6.4s\n",
            "[CV] clf__n_estimators=618, clf__min_samples_split=5, clf__min_samples_leaf=4, clf__max_features=sqrt, clf__max_depth=90, clf__bootstrap=True \n"
          ],
          "name": "stdout"
        },
        {
          "output_type": "stream",
          "text": [
            "/usr/local/lib/python3.6/dist-packages/sklearn/pipeline.py:354: DataConversionWarning: A column-vector y was passed when a 1d array was expected. Please change the shape of y to (n_samples,), for example using ravel().\n",
            "  self._final_estimator.fit(Xt, y, **fit_params)\n"
          ],
          "name": "stderr"
        },
        {
          "output_type": "stream",
          "text": [
            "[CV]  clf__n_estimators=618, clf__min_samples_split=5, clf__min_samples_leaf=4, clf__max_features=sqrt, clf__max_depth=90, clf__bootstrap=True, total=   6.4s\n",
            "[CV] clf__n_estimators=618, clf__min_samples_split=5, clf__min_samples_leaf=4, clf__max_features=sqrt, clf__max_depth=90, clf__bootstrap=True \n"
          ],
          "name": "stdout"
        },
        {
          "output_type": "stream",
          "text": [
            "/usr/local/lib/python3.6/dist-packages/sklearn/pipeline.py:354: DataConversionWarning: A column-vector y was passed when a 1d array was expected. Please change the shape of y to (n_samples,), for example using ravel().\n",
            "  self._final_estimator.fit(Xt, y, **fit_params)\n"
          ],
          "name": "stderr"
        },
        {
          "output_type": "stream",
          "text": [
            "[CV]  clf__n_estimators=618, clf__min_samples_split=5, clf__min_samples_leaf=4, clf__max_features=sqrt, clf__max_depth=90, clf__bootstrap=True, total=   6.3s\n",
            "[CV] clf__n_estimators=1836, clf__min_samples_split=10, clf__min_samples_leaf=2, clf__max_features=sqrt, clf__max_depth=110, clf__bootstrap=False \n"
          ],
          "name": "stdout"
        },
        {
          "output_type": "stream",
          "text": [
            "/usr/local/lib/python3.6/dist-packages/sklearn/pipeline.py:354: DataConversionWarning: A column-vector y was passed when a 1d array was expected. Please change the shape of y to (n_samples,), for example using ravel().\n",
            "  self._final_estimator.fit(Xt, y, **fit_params)\n"
          ],
          "name": "stderr"
        },
        {
          "output_type": "stream",
          "text": [
            "[CV]  clf__n_estimators=1836, clf__min_samples_split=10, clf__min_samples_leaf=2, clf__max_features=sqrt, clf__max_depth=110, clf__bootstrap=False, total=  30.3s\n",
            "[CV] clf__n_estimators=1836, clf__min_samples_split=10, clf__min_samples_leaf=2, clf__max_features=sqrt, clf__max_depth=110, clf__bootstrap=False \n"
          ],
          "name": "stdout"
        },
        {
          "output_type": "stream",
          "text": [
            "/usr/local/lib/python3.6/dist-packages/sklearn/pipeline.py:354: DataConversionWarning: A column-vector y was passed when a 1d array was expected. Please change the shape of y to (n_samples,), for example using ravel().\n",
            "  self._final_estimator.fit(Xt, y, **fit_params)\n"
          ],
          "name": "stderr"
        },
        {
          "output_type": "stream",
          "text": [
            "[CV]  clf__n_estimators=1836, clf__min_samples_split=10, clf__min_samples_leaf=2, clf__max_features=sqrt, clf__max_depth=110, clf__bootstrap=False, total=  28.7s\n",
            "[CV] clf__n_estimators=1836, clf__min_samples_split=10, clf__min_samples_leaf=2, clf__max_features=sqrt, clf__max_depth=110, clf__bootstrap=False \n"
          ],
          "name": "stdout"
        },
        {
          "output_type": "stream",
          "text": [
            "/usr/local/lib/python3.6/dist-packages/sklearn/pipeline.py:354: DataConversionWarning: A column-vector y was passed when a 1d array was expected. Please change the shape of y to (n_samples,), for example using ravel().\n",
            "  self._final_estimator.fit(Xt, y, **fit_params)\n"
          ],
          "name": "stderr"
        },
        {
          "output_type": "stream",
          "text": [
            "[CV]  clf__n_estimators=1836, clf__min_samples_split=10, clf__min_samples_leaf=2, clf__max_features=sqrt, clf__max_depth=110, clf__bootstrap=False, total=  30.1s\n",
            "[CV] clf__n_estimators=1836, clf__min_samples_split=10, clf__min_samples_leaf=2, clf__max_features=sqrt, clf__max_depth=110, clf__bootstrap=False \n"
          ],
          "name": "stdout"
        },
        {
          "output_type": "stream",
          "text": [
            "/usr/local/lib/python3.6/dist-packages/sklearn/pipeline.py:354: DataConversionWarning: A column-vector y was passed when a 1d array was expected. Please change the shape of y to (n_samples,), for example using ravel().\n",
            "  self._final_estimator.fit(Xt, y, **fit_params)\n"
          ],
          "name": "stderr"
        },
        {
          "output_type": "stream",
          "text": [
            "[CV]  clf__n_estimators=1836, clf__min_samples_split=10, clf__min_samples_leaf=2, clf__max_features=sqrt, clf__max_depth=110, clf__bootstrap=False, total=  29.5s\n",
            "[CV] clf__n_estimators=1836, clf__min_samples_split=10, clf__min_samples_leaf=2, clf__max_features=sqrt, clf__max_depth=110, clf__bootstrap=False \n"
          ],
          "name": "stdout"
        },
        {
          "output_type": "stream",
          "text": [
            "/usr/local/lib/python3.6/dist-packages/sklearn/pipeline.py:354: DataConversionWarning: A column-vector y was passed when a 1d array was expected. Please change the shape of y to (n_samples,), for example using ravel().\n",
            "  self._final_estimator.fit(Xt, y, **fit_params)\n"
          ],
          "name": "stderr"
        },
        {
          "output_type": "stream",
          "text": [
            "[CV]  clf__n_estimators=1836, clf__min_samples_split=10, clf__min_samples_leaf=2, clf__max_features=sqrt, clf__max_depth=110, clf__bootstrap=False, total=  29.3s\n"
          ],
          "name": "stdout"
        },
        {
          "output_type": "stream",
          "text": [
            "[Parallel(n_jobs=1)]: Done  50 out of  50 | elapsed: 16.5min finished\n",
            "/usr/local/lib/python3.6/dist-packages/sklearn/pipeline.py:354: DataConversionWarning: A column-vector y was passed when a 1d array was expected. Please change the shape of y to (n_samples,), for example using ravel().\n",
            "  self._final_estimator.fit(Xt, y, **fit_params)\n"
          ],
          "name": "stderr"
        },
        {
          "output_type": "stream",
          "text": [
            "{'clf__n_estimators': 1909, 'clf__min_samples_split': 10, 'clf__min_samples_leaf': 1, 'clf__max_features': 'sqrt', 'clf__max_depth': 90, 'clf__bootstrap': False}\n"
          ],
          "name": "stdout"
        }
      ]
    },
    {
      "cell_type": "code",
      "metadata": {
        "id": "61r_PyDy-7Uc",
        "colab_type": "code",
        "outputId": "71e4417a-96fe-433b-86a5-9ad538ae1277",
        "colab": {
          "base_uri": "https://localhost:8080/",
          "height": 207
        }
      },
      "source": [
        "# Based on Random Search, Use GridSearchCV to Hypertune the parameters for Random Forest\n",
        "\n",
        "from sklearn.ensemble import RandomForestClassifier\n",
        "regr = Pipeline(steps=[('preprocessor', preprocessor),\n",
        "                        ('clf', RandomForestClassifier())])\n",
        "\n",
        "scorer = metrics.make_scorer(metrics.f1_score, average = 'macro')\n",
        "\n",
        "param_grid = {'clf__n_estimators': [1850,1900,1950,2000],\n",
        "               'clf__max_depth': [70,80,90,100],\n",
        "               'clf__min_samples_split': [8,10,12,14],\n",
        "               'clf__min_samples_leaf': [1,2,3],\n",
        "              'clf__bootstrap': [False],\n",
        "              'clf__max_features':['sqrt']}\n",
        "\n",
        "\n",
        "grid_search_RF = GridSearchCV(regr, param_grid, cv=2, verbose=3, n_jobs=2, \n",
        "      scoring=scorer)\n",
        "\n",
        "grid_search_RF.fit(X_train, y_train)\n",
        "\n",
        "print('best score Random Forest {}'.format(grid_search_RF.best_score_)) # best score Random Forest 0.5086073645537579\n",
        "print('best parameter Random Forest {}'.format(grid_search_RF.best_params_)) # Random Forest {'clf__bootstrap': False, 'clf__max_depth': 80, 'clf__max_features': 'sqrt', 'clf__min_samples_leaf': 1, 'clf__min_samples_split': 10, 'clf__n_estimators': 2000}"
      ],
      "execution_count": 0,
      "outputs": [
        {
          "output_type": "stream",
          "text": [
            "Fitting 2 folds for each of 192 candidates, totalling 384 fits\n"
          ],
          "name": "stdout"
        },
        {
          "output_type": "stream",
          "text": [
            "[Parallel(n_jobs=2)]: Using backend LokyBackend with 2 concurrent workers.\n",
            "[Parallel(n_jobs=2)]: Done  28 tasks      | elapsed:  8.7min\n",
            "[Parallel(n_jobs=2)]: Done 124 tasks      | elapsed: 31.4min\n",
            "[Parallel(n_jobs=2)]: Done 284 tasks      | elapsed: 67.1min\n",
            "[Parallel(n_jobs=2)]: Done 384 out of 384 | elapsed: 90.4min finished\n",
            "/usr/local/lib/python3.6/dist-packages/sklearn/pipeline.py:354: DataConversionWarning: A column-vector y was passed when a 1d array was expected. Please change the shape of y to (n_samples,), for example using ravel().\n",
            "  self._final_estimator.fit(Xt, y, **fit_params)\n"
          ],
          "name": "stderr"
        },
        {
          "output_type": "stream",
          "text": [
            "best score Random Forest 0.5086073645537579\n",
            "best parameter Random Forest {'clf__bootstrap': False, 'clf__max_depth': 80, 'clf__max_features': 'sqrt', 'clf__min_samples_leaf': 1, 'clf__min_samples_split': 10, 'clf__n_estimators': 2000}\n"
          ],
          "name": "stdout"
        }
      ]
    },
    {
      "cell_type": "code",
      "metadata": {
        "id": "L93k77dITtk0",
        "colab_type": "code",
        "outputId": "7ed1260b-d51f-4da5-dc67-a6519675dddf",
        "colab": {
          "base_uri": "https://localhost:8080/",
          "height": 1000
        }
      },
      "source": [
        "# Logistic Regression\n",
        "# Use Randomized Search CV to find the ranges of parameters to look into\n",
        "\n",
        "from sklearn.model_selection import RandomizedSearchCV\n",
        "\n",
        "regr = Pipeline(steps=[('preprocessor', preprocessor),\n",
        "                        ('clf', LogisticRegression(max_iter=1000))])\n",
        "C_range = np.random.normal(1, 0.2, 10).astype(float)\n",
        " \n",
        "# Check that C>0 \n",
        "C_range[C_range < 0] = 0.0001\n",
        "\n",
        "random_grid = {'clf__penalty': ['l1', 'l2'],\n",
        "                    'clf__C': C_range}\n",
        "\n",
        "scorer = metrics.make_scorer(metrics.f1_score, average = 'macro')\n",
        "\n",
        "lr_random = RandomizedSearchCV(regr, random_grid, cv = 5, verbose=2, random_state=42, scoring=scorer)\n",
        "\n",
        "lr_random.fit(X_train, y_train)\n",
        "\n",
        "print('best parameter from Random Logistic Regression {}'.format(lr_random.best_params_)) #'best parameter from Random Logistic Regression {'clf__solver': 'saga', 'clf__penalty': 'l1', 'clf__class_weight': {1: 0.6, 0: 0.4}, 'clf__C': 0.985298251912561}\n",
        "\n",
        "\n"
      ],
      "execution_count": 0,
      "outputs": [
        {
          "output_type": "stream",
          "text": [
            "Fitting 5 folds for each of 10 candidates, totalling 50 fits\n",
            "[CV] clf__penalty=l1, clf__C=1.1353684129336936 ......................\n",
            "[CV] ....... clf__penalty=l1, clf__C=1.1353684129336936, total=   0.0s\n",
            "[CV] clf__penalty=l1, clf__C=1.1353684129336936 ......................\n",
            "[CV] ....... clf__penalty=l1, clf__C=1.1353684129336936, total=   0.0s\n",
            "[CV] clf__penalty=l1, clf__C=1.1353684129336936 ......................\n",
            "[CV] ....... clf__penalty=l1, clf__C=1.1353684129336936, total=   0.0s\n",
            "[CV] clf__penalty=l1, clf__C=1.1353684129336936 ......................\n",
            "[CV] ....... clf__penalty=l1, clf__C=1.1353684129336936, total=   0.0s\n",
            "[CV] clf__penalty=l1, clf__C=1.1353684129336936 ......................\n",
            "[CV] ....... clf__penalty=l1, clf__C=1.1353684129336936, total=   0.0s\n",
            "[CV] clf__penalty=l2, clf__C=0.942207818041415 .......................\n"
          ],
          "name": "stdout"
        },
        {
          "output_type": "stream",
          "text": [
            "[Parallel(n_jobs=1)]: Using backend SequentialBackend with 1 concurrent workers.\n",
            "/usr/local/lib/python3.6/dist-packages/sklearn/model_selection/_validation.py:536: FitFailedWarning: Estimator fit failed. The score on this train-test partition for these parameters will be set to nan. Details: \n",
            "ValueError: Solver lbfgs supports only 'l2' or 'none' penalties, got l1 penalty.\n",
            "\n",
            "  FitFailedWarning)\n",
            "[Parallel(n_jobs=1)]: Done   1 out of   1 | elapsed:    0.0s remaining:    0.0s\n",
            "/usr/local/lib/python3.6/dist-packages/sklearn/model_selection/_validation.py:536: FitFailedWarning: Estimator fit failed. The score on this train-test partition for these parameters will be set to nan. Details: \n",
            "ValueError: Solver lbfgs supports only 'l2' or 'none' penalties, got l1 penalty.\n",
            "\n",
            "  FitFailedWarning)\n",
            "/usr/local/lib/python3.6/dist-packages/sklearn/model_selection/_validation.py:536: FitFailedWarning: Estimator fit failed. The score on this train-test partition for these parameters will be set to nan. Details: \n",
            "ValueError: Solver lbfgs supports only 'l2' or 'none' penalties, got l1 penalty.\n",
            "\n",
            "  FitFailedWarning)\n",
            "/usr/local/lib/python3.6/dist-packages/sklearn/model_selection/_validation.py:536: FitFailedWarning: Estimator fit failed. The score on this train-test partition for these parameters will be set to nan. Details: \n",
            "ValueError: Solver lbfgs supports only 'l2' or 'none' penalties, got l1 penalty.\n",
            "\n",
            "  FitFailedWarning)\n",
            "/usr/local/lib/python3.6/dist-packages/sklearn/model_selection/_validation.py:536: FitFailedWarning: Estimator fit failed. The score on this train-test partition for these parameters will be set to nan. Details: \n",
            "ValueError: Solver lbfgs supports only 'l2' or 'none' penalties, got l1 penalty.\n",
            "\n",
            "  FitFailedWarning)\n",
            "/usr/local/lib/python3.6/dist-packages/sklearn/utils/validation.py:760: DataConversionWarning: A column-vector y was passed when a 1d array was expected. Please change the shape of y to (n_samples, ), for example using ravel().\n",
            "  y = column_or_1d(y, warn=True)\n"
          ],
          "name": "stderr"
        },
        {
          "output_type": "stream",
          "text": [
            "[CV] ........ clf__penalty=l2, clf__C=0.942207818041415, total=   0.7s\n",
            "[CV] clf__penalty=l2, clf__C=0.942207818041415 .......................\n"
          ],
          "name": "stdout"
        },
        {
          "output_type": "stream",
          "text": [
            "/usr/local/lib/python3.6/dist-packages/sklearn/utils/validation.py:760: DataConversionWarning: A column-vector y was passed when a 1d array was expected. Please change the shape of y to (n_samples, ), for example using ravel().\n",
            "  y = column_or_1d(y, warn=True)\n"
          ],
          "name": "stderr"
        },
        {
          "output_type": "stream",
          "text": [
            "[CV] ........ clf__penalty=l2, clf__C=0.942207818041415, total=   0.7s\n",
            "[CV] clf__penalty=l2, clf__C=0.942207818041415 .......................\n"
          ],
          "name": "stdout"
        },
        {
          "output_type": "stream",
          "text": [
            "/usr/local/lib/python3.6/dist-packages/sklearn/utils/validation.py:760: DataConversionWarning: A column-vector y was passed when a 1d array was expected. Please change the shape of y to (n_samples, ), for example using ravel().\n",
            "  y = column_or_1d(y, warn=True)\n"
          ],
          "name": "stderr"
        },
        {
          "output_type": "stream",
          "text": [
            "[CV] ........ clf__penalty=l2, clf__C=0.942207818041415, total=   0.8s\n",
            "[CV] clf__penalty=l2, clf__C=0.942207818041415 .......................\n"
          ],
          "name": "stdout"
        },
        {
          "output_type": "stream",
          "text": [
            "/usr/local/lib/python3.6/dist-packages/sklearn/utils/validation.py:760: DataConversionWarning: A column-vector y was passed when a 1d array was expected. Please change the shape of y to (n_samples, ), for example using ravel().\n",
            "  y = column_or_1d(y, warn=True)\n"
          ],
          "name": "stderr"
        },
        {
          "output_type": "stream",
          "text": [
            "[CV] ........ clf__penalty=l2, clf__C=0.942207818041415, total=   0.7s\n",
            "[CV] clf__penalty=l2, clf__C=0.942207818041415 .......................\n"
          ],
          "name": "stdout"
        },
        {
          "output_type": "stream",
          "text": [
            "/usr/local/lib/python3.6/dist-packages/sklearn/utils/validation.py:760: DataConversionWarning: A column-vector y was passed when a 1d array was expected. Please change the shape of y to (n_samples, ), for example using ravel().\n",
            "  y = column_or_1d(y, warn=True)\n"
          ],
          "name": "stderr"
        },
        {
          "output_type": "stream",
          "text": [
            "[CV] ........ clf__penalty=l2, clf__C=0.942207818041415, total=   0.6s\n",
            "[CV] clf__penalty=l2, clf__C=0.9206858479000788 ......................\n"
          ],
          "name": "stdout"
        },
        {
          "output_type": "stream",
          "text": [
            "/usr/local/lib/python3.6/dist-packages/sklearn/utils/validation.py:760: DataConversionWarning: A column-vector y was passed when a 1d array was expected. Please change the shape of y to (n_samples, ), for example using ravel().\n",
            "  y = column_or_1d(y, warn=True)\n"
          ],
          "name": "stderr"
        },
        {
          "output_type": "stream",
          "text": [
            "[CV] ....... clf__penalty=l2, clf__C=0.9206858479000788, total=   0.7s\n",
            "[CV] clf__penalty=l2, clf__C=0.9206858479000788 ......................\n"
          ],
          "name": "stdout"
        },
        {
          "output_type": "stream",
          "text": [
            "/usr/local/lib/python3.6/dist-packages/sklearn/utils/validation.py:760: DataConversionWarning: A column-vector y was passed when a 1d array was expected. Please change the shape of y to (n_samples, ), for example using ravel().\n",
            "  y = column_or_1d(y, warn=True)\n"
          ],
          "name": "stderr"
        },
        {
          "output_type": "stream",
          "text": [
            "[CV] ....... clf__penalty=l2, clf__C=0.9206858479000788, total=   0.7s\n",
            "[CV] clf__penalty=l2, clf__C=0.9206858479000788 ......................\n"
          ],
          "name": "stdout"
        },
        {
          "output_type": "stream",
          "text": [
            "/usr/local/lib/python3.6/dist-packages/sklearn/utils/validation.py:760: DataConversionWarning: A column-vector y was passed when a 1d array was expected. Please change the shape of y to (n_samples, ), for example using ravel().\n",
            "  y = column_or_1d(y, warn=True)\n"
          ],
          "name": "stderr"
        },
        {
          "output_type": "stream",
          "text": [
            "[CV] ....... clf__penalty=l2, clf__C=0.9206858479000788, total=   0.8s\n",
            "[CV] clf__penalty=l2, clf__C=0.9206858479000788 ......................\n"
          ],
          "name": "stdout"
        },
        {
          "output_type": "stream",
          "text": [
            "/usr/local/lib/python3.6/dist-packages/sklearn/utils/validation.py:760: DataConversionWarning: A column-vector y was passed when a 1d array was expected. Please change the shape of y to (n_samples, ), for example using ravel().\n",
            "  y = column_or_1d(y, warn=True)\n"
          ],
          "name": "stderr"
        },
        {
          "output_type": "stream",
          "text": [
            "[CV] ....... clf__penalty=l2, clf__C=0.9206858479000788, total=   0.7s\n",
            "[CV] clf__penalty=l2, clf__C=0.9206858479000788 ......................\n"
          ],
          "name": "stdout"
        },
        {
          "output_type": "stream",
          "text": [
            "/usr/local/lib/python3.6/dist-packages/sklearn/utils/validation.py:760: DataConversionWarning: A column-vector y was passed when a 1d array was expected. Please change the shape of y to (n_samples, ), for example using ravel().\n",
            "  y = column_or_1d(y, warn=True)\n"
          ],
          "name": "stderr"
        },
        {
          "output_type": "stream",
          "text": [
            "[CV] ....... clf__penalty=l2, clf__C=0.9206858479000788, total=   0.7s\n",
            "[CV] clf__penalty=l2, clf__C=1.1353684129336936 ......................\n"
          ],
          "name": "stdout"
        },
        {
          "output_type": "stream",
          "text": [
            "/usr/local/lib/python3.6/dist-packages/sklearn/utils/validation.py:760: DataConversionWarning: A column-vector y was passed when a 1d array was expected. Please change the shape of y to (n_samples, ), for example using ravel().\n",
            "  y = column_or_1d(y, warn=True)\n"
          ],
          "name": "stderr"
        },
        {
          "output_type": "stream",
          "text": [
            "[CV] ....... clf__penalty=l2, clf__C=1.1353684129336936, total=   0.8s\n",
            "[CV] clf__penalty=l2, clf__C=1.1353684129336936 ......................\n"
          ],
          "name": "stdout"
        },
        {
          "output_type": "stream",
          "text": [
            "/usr/local/lib/python3.6/dist-packages/sklearn/utils/validation.py:760: DataConversionWarning: A column-vector y was passed when a 1d array was expected. Please change the shape of y to (n_samples, ), for example using ravel().\n",
            "  y = column_or_1d(y, warn=True)\n"
          ],
          "name": "stderr"
        },
        {
          "output_type": "stream",
          "text": [
            "[CV] ....... clf__penalty=l2, clf__C=1.1353684129336936, total=   0.7s\n",
            "[CV] clf__penalty=l2, clf__C=1.1353684129336936 ......................\n"
          ],
          "name": "stdout"
        },
        {
          "output_type": "stream",
          "text": [
            "/usr/local/lib/python3.6/dist-packages/sklearn/utils/validation.py:760: DataConversionWarning: A column-vector y was passed when a 1d array was expected. Please change the shape of y to (n_samples, ), for example using ravel().\n",
            "  y = column_or_1d(y, warn=True)\n"
          ],
          "name": "stderr"
        },
        {
          "output_type": "stream",
          "text": [
            "[CV] ....... clf__penalty=l2, clf__C=1.1353684129336936, total=   0.7s\n",
            "[CV] clf__penalty=l2, clf__C=1.1353684129336936 ......................\n"
          ],
          "name": "stdout"
        },
        {
          "output_type": "stream",
          "text": [
            "/usr/local/lib/python3.6/dist-packages/sklearn/utils/validation.py:760: DataConversionWarning: A column-vector y was passed when a 1d array was expected. Please change the shape of y to (n_samples, ), for example using ravel().\n",
            "  y = column_or_1d(y, warn=True)\n"
          ],
          "name": "stderr"
        },
        {
          "output_type": "stream",
          "text": [
            "[CV] ....... clf__penalty=l2, clf__C=1.1353684129336936, total=   0.7s\n",
            "[CV] clf__penalty=l2, clf__C=1.1353684129336936 ......................\n"
          ],
          "name": "stdout"
        },
        {
          "output_type": "stream",
          "text": [
            "/usr/local/lib/python3.6/dist-packages/sklearn/utils/validation.py:760: DataConversionWarning: A column-vector y was passed when a 1d array was expected. Please change the shape of y to (n_samples, ), for example using ravel().\n",
            "  y = column_or_1d(y, warn=True)\n"
          ],
          "name": "stderr"
        },
        {
          "output_type": "stream",
          "text": [
            "[CV] ....... clf__penalty=l2, clf__C=1.1353684129336936, total=   0.7s\n",
            "[CV] clf__penalty=l1, clf__C=0.6750381308670478 ......................\n",
            "[CV] ....... clf__penalty=l1, clf__C=0.6750381308670478, total=   0.0s\n",
            "[CV] clf__penalty=l1, clf__C=0.6750381308670478 ......................\n",
            "[CV] ....... clf__penalty=l1, clf__C=0.6750381308670478, total=   0.0s\n",
            "[CV] clf__penalty=l1, clf__C=0.6750381308670478 ......................\n",
            "[CV] ....... clf__penalty=l1, clf__C=0.6750381308670478, total=   0.0s\n",
            "[CV] clf__penalty=l1, clf__C=0.6750381308670478 ......................\n",
            "[CV] ....... clf__penalty=l1, clf__C=0.6750381308670478, total=   0.0s\n",
            "[CV] clf__penalty=l1, clf__C=0.6750381308670478 ......................\n",
            "[CV] ....... clf__penalty=l1, clf__C=0.6750381308670478, total=   0.0s\n",
            "[CV] clf__penalty=l2, clf__C=0.9342038348928312 ......................\n"
          ],
          "name": "stdout"
        },
        {
          "output_type": "stream",
          "text": [
            "/usr/local/lib/python3.6/dist-packages/sklearn/model_selection/_validation.py:536: FitFailedWarning: Estimator fit failed. The score on this train-test partition for these parameters will be set to nan. Details: \n",
            "ValueError: Solver lbfgs supports only 'l2' or 'none' penalties, got l1 penalty.\n",
            "\n",
            "  FitFailedWarning)\n",
            "/usr/local/lib/python3.6/dist-packages/sklearn/model_selection/_validation.py:536: FitFailedWarning: Estimator fit failed. The score on this train-test partition for these parameters will be set to nan. Details: \n",
            "ValueError: Solver lbfgs supports only 'l2' or 'none' penalties, got l1 penalty.\n",
            "\n",
            "  FitFailedWarning)\n",
            "/usr/local/lib/python3.6/dist-packages/sklearn/model_selection/_validation.py:536: FitFailedWarning: Estimator fit failed. The score on this train-test partition for these parameters will be set to nan. Details: \n",
            "ValueError: Solver lbfgs supports only 'l2' or 'none' penalties, got l1 penalty.\n",
            "\n",
            "  FitFailedWarning)\n",
            "/usr/local/lib/python3.6/dist-packages/sklearn/model_selection/_validation.py:536: FitFailedWarning: Estimator fit failed. The score on this train-test partition for these parameters will be set to nan. Details: \n",
            "ValueError: Solver lbfgs supports only 'l2' or 'none' penalties, got l1 penalty.\n",
            "\n",
            "  FitFailedWarning)\n",
            "/usr/local/lib/python3.6/dist-packages/sklearn/model_selection/_validation.py:536: FitFailedWarning: Estimator fit failed. The score on this train-test partition for these parameters will be set to nan. Details: \n",
            "ValueError: Solver lbfgs supports only 'l2' or 'none' penalties, got l1 penalty.\n",
            "\n",
            "  FitFailedWarning)\n",
            "/usr/local/lib/python3.6/dist-packages/sklearn/utils/validation.py:760: DataConversionWarning: A column-vector y was passed when a 1d array was expected. Please change the shape of y to (n_samples, ), for example using ravel().\n",
            "  y = column_or_1d(y, warn=True)\n"
          ],
          "name": "stderr"
        },
        {
          "output_type": "stream",
          "text": [
            "[CV] ....... clf__penalty=l2, clf__C=0.9342038348928312, total=   0.6s\n",
            "[CV] clf__penalty=l2, clf__C=0.9342038348928312 ......................\n"
          ],
          "name": "stdout"
        },
        {
          "output_type": "stream",
          "text": [
            "/usr/local/lib/python3.6/dist-packages/sklearn/utils/validation.py:760: DataConversionWarning: A column-vector y was passed when a 1d array was expected. Please change the shape of y to (n_samples, ), for example using ravel().\n",
            "  y = column_or_1d(y, warn=True)\n"
          ],
          "name": "stderr"
        },
        {
          "output_type": "stream",
          "text": [
            "[CV] ....... clf__penalty=l2, clf__C=0.9342038348928312, total=   0.7s\n",
            "[CV] clf__penalty=l2, clf__C=0.9342038348928312 ......................\n"
          ],
          "name": "stdout"
        },
        {
          "output_type": "stream",
          "text": [
            "/usr/local/lib/python3.6/dist-packages/sklearn/utils/validation.py:760: DataConversionWarning: A column-vector y was passed when a 1d array was expected. Please change the shape of y to (n_samples, ), for example using ravel().\n",
            "  y = column_or_1d(y, warn=True)\n"
          ],
          "name": "stderr"
        },
        {
          "output_type": "stream",
          "text": [
            "[CV] ....... clf__penalty=l2, clf__C=0.9342038348928312, total=   0.7s\n",
            "[CV] clf__penalty=l2, clf__C=0.9342038348928312 ......................\n"
          ],
          "name": "stdout"
        },
        {
          "output_type": "stream",
          "text": [
            "/usr/local/lib/python3.6/dist-packages/sklearn/utils/validation.py:760: DataConversionWarning: A column-vector y was passed when a 1d array was expected. Please change the shape of y to (n_samples, ), for example using ravel().\n",
            "  y = column_or_1d(y, warn=True)\n"
          ],
          "name": "stderr"
        },
        {
          "output_type": "stream",
          "text": [
            "[CV] ....... clf__penalty=l2, clf__C=0.9342038348928312, total=   0.7s\n",
            "[CV] clf__penalty=l2, clf__C=0.9342038348928312 ......................\n"
          ],
          "name": "stdout"
        },
        {
          "output_type": "stream",
          "text": [
            "/usr/local/lib/python3.6/dist-packages/sklearn/utils/validation.py:760: DataConversionWarning: A column-vector y was passed when a 1d array was expected. Please change the shape of y to (n_samples, ), for example using ravel().\n",
            "  y = column_or_1d(y, warn=True)\n"
          ],
          "name": "stderr"
        },
        {
          "output_type": "stream",
          "text": [
            "[CV] ....... clf__penalty=l2, clf__C=0.9342038348928312, total=   0.7s\n",
            "[CV] clf__penalty=l2, clf__C=0.6315661145806624 ......................\n"
          ],
          "name": "stdout"
        },
        {
          "output_type": "stream",
          "text": [
            "/usr/local/lib/python3.6/dist-packages/sklearn/utils/validation.py:760: DataConversionWarning: A column-vector y was passed when a 1d array was expected. Please change the shape of y to (n_samples, ), for example using ravel().\n",
            "  y = column_or_1d(y, warn=True)\n"
          ],
          "name": "stderr"
        },
        {
          "output_type": "stream",
          "text": [
            "[CV] ....... clf__penalty=l2, clf__C=0.6315661145806624, total=   0.6s\n",
            "[CV] clf__penalty=l2, clf__C=0.6315661145806624 ......................\n"
          ],
          "name": "stdout"
        },
        {
          "output_type": "stream",
          "text": [
            "/usr/local/lib/python3.6/dist-packages/sklearn/utils/validation.py:760: DataConversionWarning: A column-vector y was passed when a 1d array was expected. Please change the shape of y to (n_samples, ), for example using ravel().\n",
            "  y = column_or_1d(y, warn=True)\n"
          ],
          "name": "stderr"
        },
        {
          "output_type": "stream",
          "text": [
            "[CV] ....... clf__penalty=l2, clf__C=0.6315661145806624, total=   0.6s\n",
            "[CV] clf__penalty=l2, clf__C=0.6315661145806624 ......................\n"
          ],
          "name": "stdout"
        },
        {
          "output_type": "stream",
          "text": [
            "/usr/local/lib/python3.6/dist-packages/sklearn/utils/validation.py:760: DataConversionWarning: A column-vector y was passed when a 1d array was expected. Please change the shape of y to (n_samples, ), for example using ravel().\n",
            "  y = column_or_1d(y, warn=True)\n"
          ],
          "name": "stderr"
        },
        {
          "output_type": "stream",
          "text": [
            "[CV] ....... clf__penalty=l2, clf__C=0.6315661145806624, total=   0.6s\n",
            "[CV] clf__penalty=l2, clf__C=0.6315661145806624 ......................\n"
          ],
          "name": "stdout"
        },
        {
          "output_type": "stream",
          "text": [
            "/usr/local/lib/python3.6/dist-packages/sklearn/utils/validation.py:760: DataConversionWarning: A column-vector y was passed when a 1d array was expected. Please change the shape of y to (n_samples, ), for example using ravel().\n",
            "  y = column_or_1d(y, warn=True)\n"
          ],
          "name": "stderr"
        },
        {
          "output_type": "stream",
          "text": [
            "[CV] ....... clf__penalty=l2, clf__C=0.6315661145806624, total=   0.5s\n",
            "[CV] clf__penalty=l2, clf__C=0.6315661145806624 ......................\n"
          ],
          "name": "stdout"
        },
        {
          "output_type": "stream",
          "text": [
            "/usr/local/lib/python3.6/dist-packages/sklearn/utils/validation.py:760: DataConversionWarning: A column-vector y was passed when a 1d array was expected. Please change the shape of y to (n_samples, ), for example using ravel().\n",
            "  y = column_or_1d(y, warn=True)\n"
          ],
          "name": "stderr"
        },
        {
          "output_type": "stream",
          "text": [
            "[CV] ....... clf__penalty=l2, clf__C=0.6315661145806624, total=   0.6s\n",
            "[CV] clf__penalty=l2, clf__C=0.6547738441771991 ......................\n"
          ],
          "name": "stdout"
        },
        {
          "output_type": "stream",
          "text": [
            "/usr/local/lib/python3.6/dist-packages/sklearn/utils/validation.py:760: DataConversionWarning: A column-vector y was passed when a 1d array was expected. Please change the shape of y to (n_samples, ), for example using ravel().\n",
            "  y = column_or_1d(y, warn=True)\n"
          ],
          "name": "stderr"
        },
        {
          "output_type": "stream",
          "text": [
            "[CV] ....... clf__penalty=l2, clf__C=0.6547738441771991, total=   0.6s\n",
            "[CV] clf__penalty=l2, clf__C=0.6547738441771991 ......................\n"
          ],
          "name": "stdout"
        },
        {
          "output_type": "stream",
          "text": [
            "/usr/local/lib/python3.6/dist-packages/sklearn/utils/validation.py:760: DataConversionWarning: A column-vector y was passed when a 1d array was expected. Please change the shape of y to (n_samples, ), for example using ravel().\n",
            "  y = column_or_1d(y, warn=True)\n"
          ],
          "name": "stderr"
        },
        {
          "output_type": "stream",
          "text": [
            "[CV] ....... clf__penalty=l2, clf__C=0.6547738441771991, total=   0.6s\n",
            "[CV] clf__penalty=l2, clf__C=0.6547738441771991 ......................\n"
          ],
          "name": "stdout"
        },
        {
          "output_type": "stream",
          "text": [
            "/usr/local/lib/python3.6/dist-packages/sklearn/utils/validation.py:760: DataConversionWarning: A column-vector y was passed when a 1d array was expected. Please change the shape of y to (n_samples, ), for example using ravel().\n",
            "  y = column_or_1d(y, warn=True)\n"
          ],
          "name": "stderr"
        },
        {
          "output_type": "stream",
          "text": [
            "[CV] ....... clf__penalty=l2, clf__C=0.6547738441771991, total=   0.7s\n",
            "[CV] clf__penalty=l2, clf__C=0.6547738441771991 ......................\n"
          ],
          "name": "stdout"
        },
        {
          "output_type": "stream",
          "text": [
            "/usr/local/lib/python3.6/dist-packages/sklearn/utils/validation.py:760: DataConversionWarning: A column-vector y was passed when a 1d array was expected. Please change the shape of y to (n_samples, ), for example using ravel().\n",
            "  y = column_or_1d(y, warn=True)\n"
          ],
          "name": "stderr"
        },
        {
          "output_type": "stream",
          "text": [
            "[CV] ....... clf__penalty=l2, clf__C=0.6547738441771991, total=   0.6s\n",
            "[CV] clf__penalty=l2, clf__C=0.6547738441771991 ......................\n"
          ],
          "name": "stdout"
        },
        {
          "output_type": "stream",
          "text": [
            "/usr/local/lib/python3.6/dist-packages/sklearn/utils/validation.py:760: DataConversionWarning: A column-vector y was passed when a 1d array was expected. Please change the shape of y to (n_samples, ), for example using ravel().\n",
            "  y = column_or_1d(y, warn=True)\n"
          ],
          "name": "stderr"
        },
        {
          "output_type": "stream",
          "text": [
            "[CV] ....... clf__penalty=l2, clf__C=0.6547738441771991, total=   0.6s\n",
            "[CV] clf__penalty=l1, clf__C=0.6538978100100528 ......................\n",
            "[CV] ....... clf__penalty=l1, clf__C=0.6538978100100528, total=   0.0s\n",
            "[CV] clf__penalty=l1, clf__C=0.6538978100100528 ......................\n",
            "[CV] ....... clf__penalty=l1, clf__C=0.6538978100100528, total=   0.0s\n",
            "[CV] clf__penalty=l1, clf__C=0.6538978100100528 ......................\n",
            "[CV] ....... clf__penalty=l1, clf__C=0.6538978100100528, total=   0.0s\n",
            "[CV] clf__penalty=l1, clf__C=0.6538978100100528 ......................\n",
            "[CV] ....... clf__penalty=l1, clf__C=0.6538978100100528, total=   0.0s\n",
            "[CV] clf__penalty=l1, clf__C=0.6538978100100528 ......................\n",
            "[CV] ....... clf__penalty=l1, clf__C=0.6538978100100528, total=   0.0s\n",
            "[CV] clf__penalty=l1, clf__C=0.942207818041415 .......................\n",
            "[CV] ........ clf__penalty=l1, clf__C=0.942207818041415, total=   0.0s\n",
            "[CV] clf__penalty=l1, clf__C=0.942207818041415 .......................\n",
            "[CV] ........ clf__penalty=l1, clf__C=0.942207818041415, total=   0.0s\n",
            "[CV] clf__penalty=l1, clf__C=0.942207818041415 .......................\n",
            "[CV] ........ clf__penalty=l1, clf__C=0.942207818041415, total=   0.0s\n",
            "[CV] clf__penalty=l1, clf__C=0.942207818041415 .......................\n"
          ],
          "name": "stdout"
        },
        {
          "output_type": "stream",
          "text": [
            "/usr/local/lib/python3.6/dist-packages/sklearn/model_selection/_validation.py:536: FitFailedWarning: Estimator fit failed. The score on this train-test partition for these parameters will be set to nan. Details: \n",
            "ValueError: Solver lbfgs supports only 'l2' or 'none' penalties, got l1 penalty.\n",
            "\n",
            "  FitFailedWarning)\n",
            "/usr/local/lib/python3.6/dist-packages/sklearn/model_selection/_validation.py:536: FitFailedWarning: Estimator fit failed. The score on this train-test partition for these parameters will be set to nan. Details: \n",
            "ValueError: Solver lbfgs supports only 'l2' or 'none' penalties, got l1 penalty.\n",
            "\n",
            "  FitFailedWarning)\n",
            "/usr/local/lib/python3.6/dist-packages/sklearn/model_selection/_validation.py:536: FitFailedWarning: Estimator fit failed. The score on this train-test partition for these parameters will be set to nan. Details: \n",
            "ValueError: Solver lbfgs supports only 'l2' or 'none' penalties, got l1 penalty.\n",
            "\n",
            "  FitFailedWarning)\n",
            "/usr/local/lib/python3.6/dist-packages/sklearn/model_selection/_validation.py:536: FitFailedWarning: Estimator fit failed. The score on this train-test partition for these parameters will be set to nan. Details: \n",
            "ValueError: Solver lbfgs supports only 'l2' or 'none' penalties, got l1 penalty.\n",
            "\n",
            "  FitFailedWarning)\n",
            "/usr/local/lib/python3.6/dist-packages/sklearn/model_selection/_validation.py:536: FitFailedWarning: Estimator fit failed. The score on this train-test partition for these parameters will be set to nan. Details: \n",
            "ValueError: Solver lbfgs supports only 'l2' or 'none' penalties, got l1 penalty.\n",
            "\n",
            "  FitFailedWarning)\n",
            "/usr/local/lib/python3.6/dist-packages/sklearn/model_selection/_validation.py:536: FitFailedWarning: Estimator fit failed. The score on this train-test partition for these parameters will be set to nan. Details: \n",
            "ValueError: Solver lbfgs supports only 'l2' or 'none' penalties, got l1 penalty.\n",
            "\n",
            "  FitFailedWarning)\n",
            "/usr/local/lib/python3.6/dist-packages/sklearn/model_selection/_validation.py:536: FitFailedWarning: Estimator fit failed. The score on this train-test partition for these parameters will be set to nan. Details: \n",
            "ValueError: Solver lbfgs supports only 'l2' or 'none' penalties, got l1 penalty.\n",
            "\n",
            "  FitFailedWarning)\n",
            "/usr/local/lib/python3.6/dist-packages/sklearn/model_selection/_validation.py:536: FitFailedWarning: Estimator fit failed. The score on this train-test partition for these parameters will be set to nan. Details: \n",
            "ValueError: Solver lbfgs supports only 'l2' or 'none' penalties, got l1 penalty.\n",
            "\n",
            "  FitFailedWarning)\n",
            "/usr/local/lib/python3.6/dist-packages/sklearn/model_selection/_validation.py:536: FitFailedWarning: Estimator fit failed. The score on this train-test partition for these parameters will be set to nan. Details: \n",
            "ValueError: Solver lbfgs supports only 'l2' or 'none' penalties, got l1 penalty.\n",
            "\n",
            "  FitFailedWarning)\n",
            "/usr/local/lib/python3.6/dist-packages/sklearn/model_selection/_validation.py:536: FitFailedWarning: Estimator fit failed. The score on this train-test partition for these parameters will be set to nan. Details: \n",
            "ValueError: Solver lbfgs supports only 'l2' or 'none' penalties, got l1 penalty.\n",
            "\n",
            "  FitFailedWarning)\n",
            "[Parallel(n_jobs=1)]: Done  50 out of  50 | elapsed:   20.4s finished\n",
            "/usr/local/lib/python3.6/dist-packages/sklearn/utils/validation.py:760: DataConversionWarning: A column-vector y was passed when a 1d array was expected. Please change the shape of y to (n_samples, ), for example using ravel().\n",
            "  y = column_or_1d(y, warn=True)\n"
          ],
          "name": "stderr"
        },
        {
          "output_type": "stream",
          "text": [
            "[CV] ........ clf__penalty=l1, clf__C=0.942207818041415, total=   0.0s\n",
            "[CV] clf__penalty=l1, clf__C=0.942207818041415 .......................\n",
            "[CV] ........ clf__penalty=l1, clf__C=0.942207818041415, total=   0.0s\n",
            "best parameter from Random Logistic Regression {'clf__penalty': 'l2', 'clf__C': 0.942207818041415}\n"
          ],
          "name": "stdout"
        }
      ]
    },
    {
      "cell_type": "code",
      "metadata": {
        "id": "R5837cNhWrDx",
        "colab_type": "code",
        "outputId": "2365f78e-2a05-4726-dc0e-0db4136aba33",
        "colab": {
          "base_uri": "https://localhost:8080/",
          "height": 173
        }
      },
      "source": [
        "# Based on Random Search, Use GridSearchCV to Hypertune the parameters for Logistic Regression\n",
        "\n",
        "regr = Pipeline(steps=[('preprocessor', preprocessor),\n",
        "                        ('clf', LogisticRegression(max_iter=2000))])\n",
        "\n",
        "param_grid = {'clf__penalty': ['l2'], \n",
        "                    'clf__C': [0.940,9.845,0.948,0.949,0.950,0.96, 0.955, 0.959, 0.953, 0.961]}\n",
        "\n",
        "\n",
        "grid_search_LN = GridSearchCV(regr, param_grid, cv=5, verbose=3, n_jobs=2, \n",
        "      scoring=scorer)\n",
        "\n",
        "grid_search_LN.fit(X_train, y_train)\n",
        "\n",
        "print('best score Logistic Regression {}'.format(grid_search_LN.best_score_)) # best score Logistic Regression 0.6791832396336316\n",
        "print('best parameter Logistic Regression {}'.format(grid_search_LN.best_params_)) # best parameter Logistic Regression {'clf__C': 0.845, 'clf__penalty': 'l2'}"
      ],
      "execution_count": 0,
      "outputs": [
        {
          "output_type": "stream",
          "text": [
            "Fitting 5 folds for each of 10 candidates, totalling 50 fits\n"
          ],
          "name": "stdout"
        },
        {
          "output_type": "stream",
          "text": [
            "[Parallel(n_jobs=2)]: Using backend LokyBackend with 2 concurrent workers.\n",
            "[Parallel(n_jobs=2)]: Done  28 tasks      | elapsed:   21.1s\n",
            "[Parallel(n_jobs=2)]: Done  50 out of  50 | elapsed:   33.2s finished\n",
            "/usr/local/lib/python3.6/dist-packages/sklearn/utils/validation.py:760: DataConversionWarning: A column-vector y was passed when a 1d array was expected. Please change the shape of y to (n_samples, ), for example using ravel().\n",
            "  y = column_or_1d(y, warn=True)\n"
          ],
          "name": "stderr"
        },
        {
          "output_type": "stream",
          "text": [
            "best score Logistic Regression 0.5005623339363809\n",
            "best parameter Logistic Regression {'clf__C': 9.845, 'clf__penalty': 'l2'}\n"
          ],
          "name": "stdout"
        }
      ]
    },
    {
      "cell_type": "code",
      "metadata": {
        "id": "PF6WrzdKmJ97",
        "colab_type": "code",
        "outputId": "1757a059-0fd4-4210-eb2c-590a1bd4a88d",
        "colab": {
          "base_uri": "https://localhost:8080/",
          "height": 34
        }
      },
      "source": [
        "# Choose LN as it has a higher f1 score with the hyper-tuning.\n",
        "# Prediction & generating the submission file\n",
        "y_pred = grid_search_RF.predict(X_test) #PUBLIC LEADERSHIP: 0.71069    PRIVATE LEADERSHIP: 0.70125\n",
        "pd.DataFrame(\n",
        "    {'Id': testing_ids, 'price_rating':y_pred}).to_csv('sample_submission.csv', index=False)\n",
        "print(\"---Done---\")"
      ],
      "execution_count": 0,
      "outputs": [
        {
          "output_type": "stream",
          "text": [
            "---Done---\n"
          ],
          "name": "stdout"
        }
      ]
    }
  ]
}